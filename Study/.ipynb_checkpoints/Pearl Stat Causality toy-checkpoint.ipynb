{
 "cells": [
  {
   "cell_type": "code",
   "execution_count": 12,
   "metadata": {},
   "outputs": [],
   "source": [
    "from math import *\n",
    "import numpy as np"
   ]
  },
  {
   "cell_type": "code",
   "execution_count": 78,
   "metadata": {},
   "outputs": [],
   "source": [
    "dice_values = [1,2,3,4,5,6]\n",
    "craps = [2,3,4,5,6,7,8,9,10,11,12]"
   ]
  },
  {
   "cell_type": "code",
   "execution_count": 104,
   "metadata": {},
   "outputs": [],
   "source": [
    "def mean_E(possible_values):\n",
    "    probability = (1/len(possible_values))\n",
    "    return sum(possible_values) * probability"
   ]
  },
  {
   "cell_type": "code",
   "execution_count": 105,
   "metadata": {},
   "outputs": [],
   "source": [
    "def var(possible_values, debug='off'):\n",
    "    mean_X = mean_E(possible_values)\n",
    "    probability = (1/len(possible_values))\n",
    "    result = 0\n",
    "    if debug =='on':\n",
    "        print(f\"mean = {mean_X}; probability = {probability}\")\n",
    "    for v in possible_values:\n",
    "        result = result + (((v - mean_X)**2) * probability)\n",
    "        if debug == 'on':\n",
    "            print(f\"accumulated result for value {v} = {result}\")\n",
    "    return result"
   ]
  },
  {
   "cell_type": "code",
   "execution_count": 82,
   "metadata": {},
   "outputs": [
    {
     "name": "stdout",
     "output_type": "stream",
     "text": [
      "mean = 3.5; probability = 0.16666666666666666\n",
      "accumulated result for value 1 = 1.0416666666666665\n",
      "accumulated result for value 2 = 1.4166666666666665\n",
      "accumulated result for value 3 = 1.4583333333333333\n",
      "accumulated result for value 4 = 1.5\n",
      "accumulated result for value 5 = 1.875\n",
      "accumulated result for value 6 = 2.9166666666666665\n"
     ]
    },
    {
     "data": {
      "text/plain": [
       "2.9166666666666665"
      ]
     },
     "execution_count": 82,
     "metadata": {},
     "output_type": "execute_result"
    }
   ],
   "source": [
    "var(dice_values, debug='on')"
   ]
  },
  {
   "cell_type": "code",
   "execution_count": 84,
   "metadata": {},
   "outputs": [
    {
     "name": "stdout",
     "output_type": "stream",
     "text": [
      "mean = 7.0; probability = 0.09090909090909091\n",
      "accumulated result for value 2 = 2.272727272727273\n",
      "accumulated result for value 3 = 3.7272727272727275\n",
      "accumulated result for value 4 = 4.545454545454546\n",
      "accumulated result for value 5 = 4.909090909090909\n",
      "accumulated result for value 6 = 5.0\n",
      "accumulated result for value 7 = 5.0\n",
      "accumulated result for value 8 = 5.090909090909091\n",
      "accumulated result for value 9 = 5.454545454545454\n",
      "accumulated result for value 10 = 6.2727272727272725\n",
      "accumulated result for value 11 = 7.727272727272727\n",
      "accumulated result for value 12 = 10.0\n"
     ]
    },
    {
     "data": {
      "text/plain": [
       "10.0"
      ]
     },
     "execution_count": 84,
     "metadata": {},
     "output_type": "execute_result"
    }
   ],
   "source": [
    "var(craps, debug='on')"
   ]
  },
  {
   "cell_type": "code",
   "execution_count": 103,
   "metadata": {},
   "outputs": [],
   "source": [
    "def covar(pos_valuesX, pos_valuesY, debug='off'):\n",
    "    pos_valuesXY = []\n",
    "    for vx in pos_valuesX:\n",
    "        for vy in pos_valuesY:\n",
    "            pos_valuesXY.append(vx * vy)\n",
    "    meanXY = mean_E(pos_valuesXY)\n",
    "    meanX = mean_E(pos_valuesX)\n",
    "    meanY = mean_E(pos_valuesY)\n",
    "    if debug == 'on':\n",
    "        print(pos_valuesXY)\n",
    "        print(f\"E(XY) = {meanXY}; possible outcomes XY = {len(pos_valuesXY)}\")\n",
    "        print(f\"mean X = {meanX}; mean Y = {meanY}\")\n",
    "    \n",
    "    return meanXY - (meanX * meanY)\n",
    "    "
   ]
  },
  {
   "cell_type": "code",
   "execution_count": 102,
   "metadata": {},
   "outputs": [
    {
     "name": "stdout",
     "output_type": "stream",
     "text": [
      "[1, 2, 3, 4, 5, 6, 2, 4, 6, 8, 10, 12, 3, 6, 9, 12, 15, 18, 4, 8, 12, 16, 20, 24, 5, 10, 15, 20, 25, 30, 6, 12, 18, 24, 30, 36]\n",
      "E(XY) = 12.25; possible outcomes XY = 36\n",
      "mean X = 3.5; mean Y = 3.5\n"
     ]
    },
    {
     "data": {
      "text/plain": [
       "0.0"
      ]
     },
     "execution_count": 102,
     "metadata": {},
     "output_type": "execute_result"
    }
   ],
   "source": [
    "covar(dice_values,dice_values,debug='on')"
   ]
  },
  {
   "cell_type": "code",
   "execution_count": 114,
   "metadata": {},
   "outputs": [],
   "source": [
    "def covar2(pos_valuesX, pos_valuesY, debug='off'):\n",
    "    probabilityXY = 1/(len(pos_valuesX) * len(pos_valuesY))\n",
    "    meanX = mean_E(pos_valuesX)\n",
    "    meanY = mean_E(pos_valuesY)\n",
    "    result = 0\n",
    "    if debug == 'on':\n",
    "        print(f\"mean X: {meanX}; mean Y: {meanY}; possible outcomes XY: {len(pos_valuesX) * len(pos_valuesY)}\")\n",
    "    for val_x in pos_valuesX:\n",
    "        for val_y in pos_valuesY:\n",
    "            result = result + ((val_x - meanX) * (val_y - meanY) * probabilityXY)\n",
    "            if debug == 'on':\n",
    "                print(f\"partial result for X = {val_x}, Y = {val_y}: {(val_x - meanX) * (val_y - meanY) * probabilityXY}\")\n",
    "                print(f\"accumulated result for X = {val_x}, Y = {val_y}: {result}\")\n",
    "                      \n",
    "    return result\n",
    "    "
   ]
  },
  {
   "cell_type": "code",
   "execution_count": 115,
   "metadata": {},
   "outputs": [
    {
     "name": "stdout",
     "output_type": "stream",
     "text": [
      "mean X: 3.5; mean Y: 3.5; possible outcomes XY: 36\n",
      "partial result for X = 1, Y = 1: 0.1736111111111111\n",
      "accumulated result for X = 1, Y = 1: 0.1736111111111111\n",
      "partial result for X = 1, Y = 2: 0.10416666666666666\n",
      "accumulated result for X = 1, Y = 2: 0.2777777777777778\n",
      "partial result for X = 1, Y = 3: 0.034722222222222224\n",
      "accumulated result for X = 1, Y = 3: 0.3125\n",
      "partial result for X = 1, Y = 4: -0.034722222222222224\n",
      "accumulated result for X = 1, Y = 4: 0.2777777777777778\n",
      "partial result for X = 1, Y = 5: -0.10416666666666666\n",
      "accumulated result for X = 1, Y = 5: 0.17361111111111113\n",
      "partial result for X = 1, Y = 6: -0.1736111111111111\n",
      "accumulated result for X = 1, Y = 6: 2.7755575615628914e-17\n",
      "partial result for X = 2, Y = 1: 0.10416666666666666\n",
      "accumulated result for X = 2, Y = 1: 0.10416666666666669\n",
      "partial result for X = 2, Y = 2: 0.0625\n",
      "accumulated result for X = 2, Y = 2: 0.16666666666666669\n",
      "partial result for X = 2, Y = 3: 0.020833333333333332\n",
      "accumulated result for X = 2, Y = 3: 0.18750000000000003\n",
      "partial result for X = 2, Y = 4: -0.020833333333333332\n",
      "accumulated result for X = 2, Y = 4: 0.16666666666666669\n",
      "partial result for X = 2, Y = 5: -0.0625\n",
      "accumulated result for X = 2, Y = 5: 0.10416666666666669\n",
      "partial result for X = 2, Y = 6: -0.10416666666666666\n",
      "accumulated result for X = 2, Y = 6: 2.7755575615628914e-17\n",
      "partial result for X = 3, Y = 1: 0.034722222222222224\n",
      "accumulated result for X = 3, Y = 1: 0.03472222222222225\n",
      "partial result for X = 3, Y = 2: 0.020833333333333332\n",
      "accumulated result for X = 3, Y = 2: 0.05555555555555558\n",
      "partial result for X = 3, Y = 3: 0.006944444444444444\n",
      "accumulated result for X = 3, Y = 3: 0.06250000000000003\n",
      "partial result for X = 3, Y = 4: -0.006944444444444444\n",
      "accumulated result for X = 3, Y = 4: 0.05555555555555558\n",
      "partial result for X = 3, Y = 5: -0.020833333333333332\n",
      "accumulated result for X = 3, Y = 5: 0.03472222222222225\n",
      "partial result for X = 3, Y = 6: -0.034722222222222224\n",
      "accumulated result for X = 3, Y = 6: 2.7755575615628914e-17\n",
      "partial result for X = 4, Y = 1: -0.034722222222222224\n",
      "accumulated result for X = 4, Y = 1: -0.034722222222222196\n",
      "partial result for X = 4, Y = 2: -0.020833333333333332\n",
      "accumulated result for X = 4, Y = 2: -0.055555555555555525\n",
      "partial result for X = 4, Y = 3: -0.006944444444444444\n",
      "accumulated result for X = 4, Y = 3: -0.06249999999999997\n",
      "partial result for X = 4, Y = 4: 0.006944444444444444\n",
      "accumulated result for X = 4, Y = 4: -0.055555555555555525\n",
      "partial result for X = 4, Y = 5: 0.020833333333333332\n",
      "accumulated result for X = 4, Y = 5: -0.034722222222222196\n",
      "partial result for X = 4, Y = 6: 0.034722222222222224\n",
      "accumulated result for X = 4, Y = 6: 2.7755575615628914e-17\n",
      "partial result for X = 5, Y = 1: -0.10416666666666666\n",
      "accumulated result for X = 5, Y = 1: -0.10416666666666663\n",
      "partial result for X = 5, Y = 2: -0.0625\n",
      "accumulated result for X = 5, Y = 2: -0.16666666666666663\n",
      "partial result for X = 5, Y = 3: -0.020833333333333332\n",
      "accumulated result for X = 5, Y = 3: -0.18749999999999997\n",
      "partial result for X = 5, Y = 4: 0.020833333333333332\n",
      "accumulated result for X = 5, Y = 4: -0.16666666666666663\n",
      "partial result for X = 5, Y = 5: 0.0625\n",
      "accumulated result for X = 5, Y = 5: -0.10416666666666663\n",
      "partial result for X = 5, Y = 6: 0.10416666666666666\n",
      "accumulated result for X = 5, Y = 6: 2.7755575615628914e-17\n",
      "partial result for X = 6, Y = 1: -0.1736111111111111\n",
      "accumulated result for X = 6, Y = 1: -0.17361111111111108\n",
      "partial result for X = 6, Y = 2: -0.10416666666666666\n",
      "accumulated result for X = 6, Y = 2: -0.27777777777777773\n",
      "partial result for X = 6, Y = 3: -0.034722222222222224\n",
      "accumulated result for X = 6, Y = 3: -0.31249999999999994\n",
      "partial result for X = 6, Y = 4: 0.034722222222222224\n",
      "accumulated result for X = 6, Y = 4: -0.27777777777777773\n",
      "partial result for X = 6, Y = 5: 0.10416666666666666\n",
      "accumulated result for X = 6, Y = 5: -0.17361111111111108\n",
      "partial result for X = 6, Y = 6: 0.1736111111111111\n",
      "accumulated result for X = 6, Y = 6: 2.7755575615628914e-17\n"
     ]
    },
    {
     "data": {
      "text/plain": [
       "2.7755575615628914e-17"
      ]
     },
     "execution_count": 115,
     "metadata": {},
     "output_type": "execute_result"
    }
   ],
   "source": [
    "covar2(dice_values,dice_values, debug='on')"
   ]
  },
  {
   "cell_type": "code",
   "execution_count": 116,
   "metadata": {},
   "outputs": [
    {
     "data": {
      "text/plain": [
       "91"
      ]
     },
     "execution_count": 116,
     "metadata": {},
     "output_type": "execute_result"
    }
   ],
   "source": [
    "(1**2) + (2**2) + (3**2) + (4**2) + (5**2) + (6**2)"
   ]
  },
  {
   "cell_type": "code",
   "execution_count": 117,
   "metadata": {},
   "outputs": [
    {
     "data": {
      "text/plain": [
       "15.166666666666666"
      ]
     },
     "execution_count": 117,
     "metadata": {},
     "output_type": "execute_result"
    }
   ],
   "source": [
    "91 / 6"
   ]
  },
  {
   "cell_type": "code",
   "execution_count": 118,
   "metadata": {},
   "outputs": [
    {
     "data": {
      "text/plain": [
       "2.916666666666666"
      ]
     },
     "execution_count": 118,
     "metadata": {},
     "output_type": "execute_result"
    }
   ],
   "source": [
    "(91/6) - (3.5 * 3.5)"
   ]
  },
  {
   "cell_type": "code",
   "execution_count": 23,
   "metadata": {},
   "outputs": [],
   "source": [
    "X = np.array([6,3,4,6,6,5,1,3,6,3,5,4])\n",
    "Z = np.array([3,4,6,2,4,3,5,5,5,5,3,5])\n",
    "Y = X + Z"
   ]
  },
  {
   "cell_type": "code",
   "execution_count": 24,
   "metadata": {},
   "outputs": [
    {
     "data": {
      "text/plain": [
       "array([ 9,  7, 10,  8, 10,  8,  6,  8, 11,  8,  8,  9])"
      ]
     },
     "execution_count": 24,
     "metadata": {},
     "output_type": "execute_result"
    }
   ],
   "source": [
    "Y"
   ]
  },
  {
   "cell_type": "code",
   "execution_count": 25,
   "metadata": {},
   "outputs": [
    {
     "name": "stdout",
     "output_type": "stream",
     "text": [
      "4.333333333333333 4.166666666666667 8.5\n"
     ]
    }
   ],
   "source": [
    "print(np.mean(X),np.mean(Z), np.mean(Y))"
   ]
  },
  {
   "cell_type": "code",
   "execution_count": 32,
   "metadata": {},
   "outputs": [
    {
     "name": "stdout",
     "output_type": "stream",
     "text": [
      "6.0\n",
      "nan\n",
      "7.666666666666667\n",
      "9.5\n",
      "8.0\n",
      "9.5\n"
     ]
    }
   ],
   "source": [
    "for n in range(1,7):\n",
    "    print(np.mean(Y[(X == n)]))"
   ]
  },
  {
   "cell_type": "code",
   "execution_count": 33,
   "metadata": {},
   "outputs": [
    {
     "name": "stdout",
     "output_type": "stream",
     "text": [
      "nan\n",
      "nan\n",
      "nan\n",
      "nan\n",
      "nan\n",
      "1.0\n",
      "3.0\n",
      "4.4\n",
      "5.0\n",
      "5.0\n",
      "6.0\n",
      "nan\n"
     ]
    }
   ],
   "source": [
    "for n in range(1,13):\n",
    "    print(np.mean(X[(Y == n)]))"
   ]
  },
  {
   "cell_type": "code",
   "execution_count": 62,
   "metadata": {},
   "outputs": [
    {
     "name": "stdout",
     "output_type": "stream",
     "text": [
      "1.5454545454545454 -1.0606060606060606\n"
     ]
    }
   ],
   "source": [
    "sigma_XY = np.cov(X,Y)[0,1]\n",
    "sigma_XZ = np.cov(X,Z)[0,1]\n",
    "print(sigma_XY, sigma_XZ)"
   ]
  },
  {
   "cell_type": "code",
   "execution_count": 60,
   "metadata": {},
   "outputs": [
    {
     "name": "stdout",
     "output_type": "stream",
     "text": [
      "0.7558562989618244\n"
     ]
    }
   ],
   "source": [
    "rho_XY = np.cov(X,Y)[0,1] / (np.sqrt(np.var(X)) * (np.sqrt(np.var(Y))))\n",
    "print(rho_XY)"
   ]
  },
  {
   "cell_type": "code",
   "execution_count": null,
   "metadata": {},
   "outputs": [],
   "source": []
  },
  {
   "cell_type": "markdown",
   "metadata": {},
   "source": [
    "### Study Question 1.3.8"
   ]
  },
  {
   "cell_type": "code",
   "execution_count": 15,
   "metadata": {},
   "outputs": [],
   "source": [
    "def prodvars(x):\n",
    "    Y = np.array([x + z for z in range(1,7)])\n",
    "    print(f\"Y = {Y}\")\n",
    "    prod = x * Y\n",
    "    print(f\"prod = {prod}\")\n",
    "    return np.sum(prod)"
   ]
  },
  {
   "cell_type": "code",
   "execution_count": 19,
   "metadata": {},
   "outputs": [
    {
     "name": "stdout",
     "output_type": "stream",
     "text": [
      "Y = [2 3 4 5 6 7]\n",
      "prod = [2 3 4 5 6 7]\n",
      "Y = [3 4 5 6 7 8]\n",
      "prod = [ 6  8 10 12 14 16]\n",
      "Y = [4 5 6 7 8 9]\n",
      "prod = [12 15 18 21 24 27]\n",
      "Y = [ 5  6  7  8  9 10]\n",
      "prod = [20 24 28 32 36 40]\n",
      "Y = [ 6  7  8  9 10 11]\n",
      "prod = [30 35 40 45 50 55]\n",
      "Y = [ 7  8  9 10 11 12]\n",
      "prod = [42 48 54 60 66 72]\n",
      "\n",
      "XY = [ 27  66 117 180 255 342]\n",
      "sum = 987\n"
     ]
    }
   ],
   "source": [
    "XY = np.array([prodvars(x) for x in range(1,7)])\n",
    "print(f\"\\nXY = {XY}\")\n",
    "print(f\"sum = {np.sum(XY)}\")"
   ]
  },
  {
   "cell_type": "code",
   "execution_count": 20,
   "metadata": {},
   "outputs": [],
   "source": [
    "def XZ():\n",
    "    result = 0\n",
    "    for x in range(1,7):\n",
    "        for z in range(1,7):\n",
    "            result += x * z\n",
    "    return result\n"
   ]
  },
  {
   "cell_type": "code",
   "execution_count": 22,
   "metadata": {},
   "outputs": [],
   "source": [
    "def prodvarsXZ():\n",
    "    X = np.array([x for x in range(1,7)])\n",
    "    Z = np.array([z for z in range(1,7)])\n",
    "    XZ_vec = np.array([x * z for x in X for z in Z])\n",
    "    print(f\"prod = {XZ_vec}\")\n",
    "    return np.sum(XZ_vec)"
   ]
  },
  {
   "cell_type": "code",
   "execution_count": 23,
   "metadata": {},
   "outputs": [
    {
     "name": "stdout",
     "output_type": "stream",
     "text": [
      "prod = [ 1  2  3  4  5  6  2  4  6  8 10 12  3  6  9 12 15 18  4  8 12 16 20 24\n",
      "  5 10 15 20 25 30  6 12 18 24 30 36]\n"
     ]
    },
    {
     "data": {
      "text/plain": [
       "441"
      ]
     },
     "execution_count": 23,
     "metadata": {},
     "output_type": "execute_result"
    }
   ],
   "source": [
    "prodvarsXZ()"
   ]
  },
  {
   "cell_type": "code",
   "execution_count": 42,
   "metadata": {},
   "outputs": [],
   "source": []
  },
  {
   "cell_type": "code",
   "execution_count": 66,
   "metadata": {},
   "outputs": [],
   "source": [
    "def regZYonX(Z, Y, X, s, debug=False):\n",
    "    '''Z, Y, X strings to call the s values for multiple regression\n",
    "    s a dictionary containing all relevant sigmas (covariances and variances) for the variables Z, Y, X\n",
    "    '''\n",
    "\n",
    "    s_XX, s_ZY, s_ZX, s_XY, s_YY = s[f\"{X}{X}\"], s[f\"{Z}{Y}\"], s[f\"{Z}{X}\"], s[f\"{X}{Y}\"], s[f\"{Y}{Y}\"]\n",
    "\n",
    "    if debug == True:\n",
    "        print(f\"\\ns_{X}{X}: {s_XX}, s_{Z}{Y}: {s_ZY}, s_{Z}{X}: {s_ZX}, s_{X}{Y}: {s_XY}, s_{Y}{Y}: {s_YY}\")\n",
    "        print(f\"1st: {(s_XX * s_ZY)}; 2nd: {(s_ZX * s_XY)}; 3rd: {(s_YY * s_XX)}; 4th: {(s_XY * s_XY)}\")\n",
    "\n",
    "    # This is just the formula for multiple regression w/ 3 vars\n",
    "    return ( ((s_XX * s_ZY) - (s_ZX * s_XY)) / ((s_YY * s_XX) - (s_XY * s_XY)) )"
   ]
  },
  {
   "cell_type": "code",
   "execution_count": 68,
   "metadata": {},
   "outputs": [],
   "source": [
    "# s for sigma, containing variances and covariances\n",
    "# in this example, X and Z are independent, Y is dependent on X and Z\n",
    "s1 = {\"XX\": 17.5/6, \"ZZ\": 17.5/6, \"YY\": 35/6,\n",
    "     \"XY\": 17.5/6, \"ZY\": 17.5/6, \"YZ\": 17.5/6, \"YX\": 17.5/6,\n",
    "     \"XZ\": 0, \"ZX\": 0\n",
    "     }"
   ]
  },
  {
   "cell_type": "code",
   "execution_count": 69,
   "metadata": {},
   "outputs": [],
   "source": [
    "# All sigmas above are multiple of each other,\n",
    "# this calculation can even be done by hand -_-\n",
    "s2 = {\"XX\": 1, \"ZZ\": 1, \"YY\": 2,\n",
    "     \"XY\": 1, \"ZY\": 1, \"YZ\": 1, \"YX\": 1,\n",
    "     \"XZ\": 0, \"ZX\": 0\n",
    "     }"
   ]
  },
  {
   "cell_type": "code",
   "execution_count": 71,
   "metadata": {},
   "outputs": [
    {
     "name": "stdout",
     "output_type": "stream",
     "text": [
      "Regression YX on Z = 1.0\n",
      "Regression XY on Z = 1.0\n",
      "Regression YZ on X = 1.0\n",
      "Regression ZY on X = 1.0\n",
      "Regression XZ on Y = -1.0\n",
      "Regression ZX on Y = -1.0\n"
     ]
    }
   ],
   "source": [
    "# The regression coefficients asked in the exercise\n",
    "list_reg_coefs = [\"YXZ\", \"XYZ\", \"YZX\", \"ZYX\", \"XZY\", \"ZXY\"]\n",
    "\n",
    "for c in list_reg_coefs:\n",
    "    print(f\"Regression {c[0:2]} on {c[2]} = {regZYonX(c[0], c[1], c[2], s1)}\")"
   ]
  },
  {
   "cell_type": "code",
   "execution_count": null,
   "metadata": {},
   "outputs": [],
   "source": []
  }
 ],
 "metadata": {
  "kernelspec": {
   "display_name": "DataAnalysis",
   "language": "python",
   "name": "dataanalysis"
  },
  "language_info": {
   "codemirror_mode": {
    "name": "ipython",
    "version": 3
   },
   "file_extension": ".py",
   "mimetype": "text/x-python",
   "name": "python",
   "nbconvert_exporter": "python",
   "pygments_lexer": "ipython3",
   "version": "3.10.1"
  }
 },
 "nbformat": 4,
 "nbformat_minor": 4
}
