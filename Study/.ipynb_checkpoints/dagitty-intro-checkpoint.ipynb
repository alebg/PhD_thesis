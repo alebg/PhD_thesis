{
 "cells": [
  {
   "cell_type": "code",
   "execution_count": 1,
   "id": "e7670ab0-acb0-4298-9744-ac2774b5c260",
   "metadata": {},
   "outputs": [
    {
     "name": "stderr",
     "output_type": "stream",
     "text": [
      "This is lavaan 0.6-9\n",
      "lavaan is FREE software! Please report any bugs.\n",
      "\n"
     ]
    }
   ],
   "source": [
    "library(dagitty)\n",
    "library(lavaan)"
   ]
  },
  {
   "cell_type": "markdown",
   "id": "450801f2-e856-4a85-95e8-637720b0c9f2",
   "metadata": {},
   "source": [
    "## Generate Simple DAGs"
   ]
  },
  {
   "cell_type": "code",
   "execution_count": 2,
   "id": "6cc664b0-acea-4e22-a7fa-86fc0e2e8b61",
   "metadata": {},
   "outputs": [],
   "source": [
    "g <- dagitty('dag {\n",
    "             X [pos=\"0,0\"]\n",
    "             Y [pos=\"0,2\"]\n",
    "             Z [pos=\"1,1\"]\n",
    "  X -> Z\n",
    "  Y -> Z  \n",
    "}')"
   ]
  },
  {
   "cell_type": "code",
   "execution_count": 3,
   "id": "cc3e8994-60e6-44ce-b0af-da00f9f6cb46",
   "metadata": {},
   "outputs": [
    {
     "data": {
      "image/png": "[encoded data removed]",
      "text/plain": [
       "plot without title"
      ]
     },
     "metadata": {
      "image/png": {
       "height": 420,
       "width": 420
      }
     },
     "output_type": "display_data"
    }
   ],
   "source": [
    "plot(g)"
   ]
  },
  {
   "cell_type": "code",
   "execution_count": 4,
   "id": "0f19d664-62bc-443e-a2d9-faefc93374ef",
   "metadata": {},
   "outputs": [
    {
     "data": {
      "text/html": [
       "<dl>\n",
       "\t<dt>$paths</dt>\n",
       "\t\t<dd>'X -&gt; Z'</dd>\n",
       "\t<dt>$open</dt>\n",
       "\t\t<dd>TRUE</dd>\n",
       "</dl>\n"
      ],
      "text/latex": [
       "\\begin{description}\n",
       "\\item[\\$paths] 'X -> Z'\n",
       "\\item[\\$open] TRUE\n",
       "\\end{description}\n"
      ],
      "text/markdown": [
       "$paths\n",
       ":   'X -&gt; Z'\n",
       "$open\n",
       ":   TRUE\n",
       "\n",
       "\n"
      ],
      "text/plain": [
       "$paths\n",
       "[1] \"X -> Z\"\n",
       "\n",
       "$open\n",
       "[1] TRUE\n"
      ]
     },
     "metadata": {},
     "output_type": "display_data"
    }
   ],
   "source": [
    "paths(g,\"X\",\"Z\")"
   ]
  },
  {
   "cell_type": "markdown",
   "id": "3bb1db76-08a2-4e72-bc87-083cb0d1d346",
   "metadata": {},
   "source": [
    "## Creating an Artificial Data Set Matching a Structural Causal Model (SCM)"
   ]
  },
  {
   "cell_type": "markdown",
   "id": "c4616db3-7426-4a41-ac39-c5c1fdd8bda5",
   "metadata": {},
   "source": [
    "We'll use the `lavaan` library and its syntax to create our SCM:"
   ]
  },
  {
   "cell_type": "code",
   "execution_count": 5,
   "id": "e935de25-bcf0-484e-9073-c1c4026f7645",
   "metadata": {},
   "outputs": [],
   "source": [
    "lavaan_model <- \"Z ~ 3*X + 2*Y\"\n",
    "set.seed(12345)\n",
    "g_tbl <- simulateData(lavaan_model, sample.nobs=1000)"
   ]
  },
  {
   "cell_type": "markdown",
   "id": "617d66e3-225f-482e-8146-77dad25d6768",
   "metadata": {},
   "source": [
    "Now we'll fit the model using a traditional structured equations model (SEM):"
   ]
  },
  {
   "cell_type": "code",
   "execution_count": 6,
   "id": "c02dab5b-afba-48ad-871c-4cddf8273971",
   "metadata": {},
   "outputs": [],
   "source": [
    "lavaan_fit <- sem(lavaan_model, data = g_tbl)"
   ]
  },
  {
   "cell_type": "markdown",
   "id": "284d47e3-b8be-4be5-b67f-292d3e06a8f6",
   "metadata": {},
   "source": [
    "Unsurprisingly, the fit matches the SCM above"
   ]
  },
  {
   "cell_type": "code",
   "execution_count": 7,
   "id": "faaac56e-932d-4f7b-a3cf-0d6f84d04207",
   "metadata": {},
   "outputs": [
    {
     "data": {
      "text/html": [
       "<table class=\"dataframe\">\n",
       "<caption>A lavaan.data.frame: 6 x 9</caption>\n",
       "<thead>\n",
       "\t<tr><th scope=col>lhs</th><th scope=col>op</th><th scope=col>rhs</th><th scope=col>est</th><th scope=col>se</th><th scope=col>z</th><th scope=col>pvalue</th><th scope=col>ci.lower</th><th scope=col>ci.upper</th></tr>\n",
       "\t<tr><th scope=col>&lt;chr&gt;</th><th scope=col>&lt;chr&gt;</th><th scope=col>&lt;chr&gt;</th><th scope=col>&lt;dbl&gt;</th><th scope=col>&lt;dbl&gt;</th><th scope=col>&lt;dbl&gt;</th><th scope=col>&lt;dbl&gt;</th><th scope=col>&lt;dbl&gt;</th><th scope=col>&lt;dbl&gt;</th></tr>\n",
       "</thead>\n",
       "<tbody>\n",
       "\t<tr><td>Z</td><td>~ </td><td>X</td><td>3.000000000</td><td>0.000000</td><td>      NA</td><td>NA</td><td>3.000000000</td><td>3.000000000</td></tr>\n",
       "\t<tr><td>Z</td><td>~ </td><td>Y</td><td>2.000000000</td><td>0.000000</td><td>      NA</td><td>NA</td><td>2.000000000</td><td>2.000000000</td></tr>\n",
       "\t<tr><td>Z</td><td>~~</td><td>Z</td><td>0.913992881</td><td>0.040875</td><td>22.36068</td><td> 0</td><td>0.833879344</td><td>0.994106417</td></tr>\n",
       "\t<tr><td>X</td><td>~~</td><td>X</td><td>0.966490602</td><td>0.000000</td><td>      NA</td><td>NA</td><td>0.966490602</td><td>0.966490602</td></tr>\n",
       "\t<tr><td>X</td><td>~~</td><td>Y</td><td>0.006445564</td><td>0.000000</td><td>      NA</td><td>NA</td><td>0.006445564</td><td>0.006445564</td></tr>\n",
       "\t<tr><td>Y</td><td>~~</td><td>Y</td><td>1.046250854</td><td>0.000000</td><td>      NA</td><td>NA</td><td>1.046250854</td><td>1.046250854</td></tr>\n",
       "</tbody>\n",
       "</table>\n"
      ],
      "text/latex": [
       "A lavaan.data.frame: 6 x 9\n",
       "\\begin{tabular}{lllllllll}\n",
       " lhs & op & rhs & est & se & z & pvalue & ci.lower & ci.upper\\\\\n",
       " <chr> & <chr> & <chr> & <dbl> & <dbl> & <dbl> & <dbl> & <dbl> & <dbl>\\\\\n",
       "\\hline\n",
       "\t Z & \\textasciitilde{}  & X & 3.000000000 & 0.000000 &       NA & NA & 3.000000000 & 3.000000000\\\\\n",
       "\t Z & \\textasciitilde{}  & Y & 2.000000000 & 0.000000 &       NA & NA & 2.000000000 & 2.000000000\\\\\n",
       "\t Z & \\textasciitilde{}\\textasciitilde{} & Z & 0.913992881 & 0.040875 & 22.36068 &  0 & 0.833879344 & 0.994106417\\\\\n",
       "\t X & \\textasciitilde{}\\textasciitilde{} & X & 0.966490602 & 0.000000 &       NA & NA & 0.966490602 & 0.966490602\\\\\n",
       "\t X & \\textasciitilde{}\\textasciitilde{} & Y & 0.006445564 & 0.000000 &       NA & NA & 0.006445564 & 0.006445564\\\\\n",
       "\t Y & \\textasciitilde{}\\textasciitilde{} & Y & 1.046250854 & 0.000000 &       NA & NA & 1.046250854 & 1.046250854\\\\\n",
       "\\end{tabular}\n"
      ],
      "text/markdown": [
       "\n",
       "A lavaan.data.frame: 6 x 9\n",
       "\n",
       "| lhs &lt;chr&gt; | op &lt;chr&gt; | rhs &lt;chr&gt; | est &lt;dbl&gt; | se &lt;dbl&gt; | z &lt;dbl&gt; | pvalue &lt;dbl&gt; | ci.lower &lt;dbl&gt; | ci.upper &lt;dbl&gt; |\n",
       "|---|---|---|---|---|---|---|---|---|\n",
       "| Z | ~  | X | 3.000000000 | 0.000000 |       NA | NA | 3.000000000 | 3.000000000 |\n",
       "| Z | ~  | Y | 2.000000000 | 0.000000 |       NA | NA | 2.000000000 | 2.000000000 |\n",
       "| Z | ~~ | Z | 0.913992881 | 0.040875 | 22.36068 |  0 | 0.833879344 | 0.994106417 |\n",
       "| X | ~~ | X | 0.966490602 | 0.000000 |       NA | NA | 0.966490602 | 0.966490602 |\n",
       "| X | ~~ | Y | 0.006445564 | 0.000000 |       NA | NA | 0.006445564 | 0.006445564 |\n",
       "| Y | ~~ | Y | 1.046250854 | 0.000000 |       NA | NA | 1.046250854 | 1.046250854 |\n",
       "\n"
      ],
      "text/plain": [
       "  lhs op rhs est         se       z        pvalue ci.lower    ci.upper   \n",
       "1 Z   ~  X   3.000000000 0.000000       NA NA     3.000000000 3.000000000\n",
       "2 Z   ~  Y   2.000000000 0.000000       NA NA     2.000000000 2.000000000\n",
       "3 Z   ~~ Z   0.913992881 0.040875 22.36068  0     0.833879344 0.994106417\n",
       "4 X   ~~ X   0.966490602 0.000000       NA NA     0.966490602 0.966490602\n",
       "5 X   ~~ Y   0.006445564 0.000000       NA NA     0.006445564 0.006445564\n",
       "6 Y   ~~ Y   1.046250854 0.000000       NA NA     1.046250854 1.046250854"
      ]
     },
     "metadata": {},
     "output_type": "display_data"
    }
   ],
   "source": [
    "parameterEstimates(lavaan_fit)"
   ]
  },
  {
   "cell_type": "markdown",
   "id": "82c91611-e42a-43f7-b278-fff13527cef2",
   "metadata": {},
   "source": [
    "## Estimating an SCM when not Knowing It"
   ]
  },
  {
   "cell_type": "markdown",
   "id": "4ffbe023-f615-48cb-94e6-46512819ab1d",
   "metadata": {},
   "source": [
    "Fitting a linear model to Z and X, using the data generated above:"
   ]
  },
  {
   "cell_type": "code",
   "execution_count": 18,
   "id": "9bdda97f-9b6d-43ef-99b3-af4250997e95",
   "metadata": {},
   "outputs": [
    {
     "data": {
      "text/plain": [
       "\n",
       "Call:\n",
       "lm(formula = Z ~ X, data = g_tbl)\n",
       "\n",
       "Coefficients:\n",
       "(Intercept)            X  \n",
       "  -0.008156     3.019497  \n"
      ]
     },
     "metadata": {},
     "output_type": "display_data"
    }
   ],
   "source": [
    "lm(Z ~ X, data=g_tbl)"
   ]
  },
  {
   "cell_type": "markdown",
   "id": "c12786c5-8253-4ae9-8417-c137a5dec520",
   "metadata": {},
   "source": []
  },
  {
   "cell_type": "markdown",
   "id": "09d9eb1e-06c8-418a-a45c-4c4687a4313f",
   "metadata": {},
   "source": [
    "To get the true causal effect of $X$ on $Z$, `dagitty` can provide us with the variables we need to condition on (using the rules of Pearl's d-separation)."
   ]
  },
  {
   "cell_type": "code",
   "execution_count": 19,
   "id": "e9503dbe-445b-4251-8be5-5dce85e68a7a",
   "metadata": {},
   "outputs": [
    {
     "data": {
      "text/plain": [
       " {}\n",
       "{ Y }"
      ]
     },
     "metadata": {},
     "output_type": "display_data"
    }
   ],
   "source": [
    "adjustmentSets(g, \"X\", \"Z\", type = \"all\")"
   ]
  },
  {
   "cell_type": "markdown",
   "id": "0f9e8ade-a8a7-42d7-86d8-d89dece660ec",
   "metadata": {},
   "source": [
    "To do this, for a more complex causal model we could adjust e.g. for colliders ($T$):\\\n",
    "`lm(Z ~ X + T, data = g_tbl)`\\\n",
    "that is, add `+ V` after $X$ for all the variables stated in one of the adjustment sets outputted with `adjustmentSets()`."
   ]
  },
  {
   "cell_type": "markdown",
   "id": "f866f039-1417-40f3-b629-1c6cb619eae3",
   "metadata": {},
   "source": [
    "## Unobserved Variables"
   ]
  },
  {
   "cell_type": "markdown",
   "id": "05893565-116e-49a4-98fd-391eae0261af",
   "metadata": {},
   "source": [
    "We can define unobserved, or \"latent\", variables in `dagitty`:"
   ]
  },
  {
   "cell_type": "code",
   "execution_count": 21,
   "id": "3356dff5-520e-40f3-a988-449fcba9a0e2",
   "metadata": {},
   "outputs": [],
   "source": [
    "g_unobs <- g\n",
    "latents(g_unobs) <- c(\"Y\")"
   ]
  },
  {
   "cell_type": "markdown",
   "id": "c4ab69cd-c73f-4226-b739-64788183eb12",
   "metadata": {},
   "source": [
    "Note how this changes the adjustment sets:"
   ]
  },
  {
   "cell_type": "code",
   "execution_count": 22,
   "id": "477a387d-ccc0-4596-aa7b-6b2020a9a01d",
   "metadata": {},
   "outputs": [
    {
     "data": {
      "text/plain": [
       " {}"
      ]
     },
     "metadata": {},
     "output_type": "display_data"
    }
   ],
   "source": [
    "adjustmentSets(g_unobs, \"X\", \"Z\", type = \"minimal\")"
   ]
  },
  {
   "cell_type": "markdown",
   "id": "ccf11214-979f-444a-ac12-5686d48ce9c6",
   "metadata": {},
   "source": [
    "For this very simple model we are out of luck.\n",
    "But for complex causal models with several variables and paths, even if some variables are unobserved we might find adjustment sets composed of observed variables."
   ]
  },
  {
   "cell_type": "markdown",
   "id": "f60f98e6-b7ce-494c-a0a2-cb0605267c12",
   "metadata": {},
   "source": [
    "## Conditional Independence"
   ]
  },
  {
   "cell_type": "markdown",
   "id": "212b0b13-ac14-4aaa-b992-26e5d38de09b",
   "metadata": {},
   "source": [
    "For the simple collider model $X → Z ← Y$, by the rules of Pearl's d-separation we know that $X$ and $Y$ are conditionally independent, and that conditioning on $Z$ renders them dependent.\n",
    "That is,\n",
    "$$P(X = x | Y = y) = P(X = x)$$\n",
    "*except* whenever we condition on $Z$.\n",
    "This implication of a causal model can be tested with regressions on empirical data sets:"
   ]
  },
  {
   "cell_type": "code",
   "execution_count": 26,
   "id": "70aa7c19-9987-4eb1-9747-df5e347470b9",
   "metadata": {},
   "outputs": [
    {
     "data": {
      "text/plain": [
       "\n",
       "Call:\n",
       "lm(formula = Y ~ X, data = g_tbl)\n",
       "\n",
       "Coefficients:\n",
       "(Intercept)            X  \n",
       "   0.002671     0.006669  \n"
      ]
     },
     "metadata": {},
     "output_type": "display_data"
    }
   ],
   "source": [
    "lm(Y ~ X, data=g_tbl)"
   ]
  },
  {
   "cell_type": "markdown",
   "id": "56c1bc9b-2ef1-4dae-8c83-7c450026db18",
   "metadata": {},
   "source": [
    "As this data by design does not match exactly the lavaal SCM above, the regression outputs a non-zero value.\n",
    "It is very close to zero though, a situation that changes when we condition on $Z$, rendering both variables dependent:"
   ]
  },
  {
   "cell_type": "code",
   "execution_count": 28,
   "id": "f8c79c8a-29a1-45f0-89ae-b37a6b77834c",
   "metadata": {},
   "outputs": [
    {
     "data": {
      "text/plain": [
       "\n",
       "Call:\n",
       "lm(formula = Y ~ X + Z, data = g_tbl)\n",
       "\n",
       "Coefficients:\n",
       "(Intercept)            X            Z  \n",
       "    0.00601     -1.22921      0.40930  \n"
      ]
     },
     "metadata": {},
     "output_type": "display_data"
    }
   ],
   "source": [
    "lm(Y ~ X + Z, data=g_tbl)"
   ]
  },
  {
   "cell_type": "markdown",
   "id": "3160e50a-9127-4c23-8ec9-38f2b691abe8",
   "metadata": {},
   "source": [
    "And we can straightforwardly use dagitty's `impliedConditionalIndependencies()`:"
   ]
  },
  {
   "cell_type": "code",
   "execution_count": 27,
   "id": "dd02c0f2-d19e-4547-9b7f-859bf157a7f3",
   "metadata": {},
   "outputs": [
    {
     "data": {
      "text/plain": [
       "X _||_ Y"
      ]
     },
     "metadata": {},
     "output_type": "display_data"
    }
   ],
   "source": [
    "impliedConditionalIndependencies(g)"
   ]
  },
  {
   "cell_type": "code",
   "execution_count": null,
   "id": "8f615cd5-cabc-42a1-8077-db3d33305c02",
   "metadata": {},
   "outputs": [],
   "source": []
  },
  {
   "cell_type": "code",
   "execution_count": null,
   "id": "17cc9789-4be8-4769-8227-438bdc949d4a",
   "metadata": {},
   "outputs": [],
   "source": []
  },
  {
   "cell_type": "code",
   "execution_count": null,
   "id": "6f3bcbda-1e43-4d92-ab00-87e4abc0cf96",
   "metadata": {},
   "outputs": [],
   "source": []
  }
 ],
 "metadata": {
  "kernelspec": {
   "display_name": "R4.0.4",
   "language": "R",
   "name": "ir40"
  },
  "language_info": {
   "codemirror_mode": "r",
   "file_extension": ".r",
   "mimetype": "text/x-r-source",
   "name": "R",
   "pygments_lexer": "r",
   "version": "4.0.4"
  }
 },
 "nbformat": 4,
 "nbformat_minor": 5
}
