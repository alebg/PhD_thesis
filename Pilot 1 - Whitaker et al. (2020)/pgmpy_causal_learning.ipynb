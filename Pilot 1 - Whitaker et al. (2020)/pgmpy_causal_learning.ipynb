{
 "cells": [
  {
   "cell_type": "code",
   "execution_count": 7,
   "metadata": {},
   "outputs": [],
   "source": [
    "import pgmpy\n",
    "import pandas as pd\n",
    "\n",
    "from pgmpy import config, estimators\n"
   ]
  },
  {
   "cell_type": "code",
   "execution_count": 8,
   "metadata": {},
   "outputs": [
    {
     "data": {
      "text/html": [
       "<div>\n",
       "<style scoped>\n",
       "    .dataframe tbody tr th:only-of-type {\n",
       "        vertical-align: middle;\n",
       "    }\n",
       "\n",
       "    .dataframe tbody tr th {\n",
       "        vertical-align: top;\n",
       "    }\n",
       "\n",
       "    .dataframe thead th {\n",
       "        text-align: right;\n",
       "    }\n",
       "</style>\n",
       "<table border=\"1\" class=\"dataframe\">\n",
       "  <thead>\n",
       "    <tr style=\"text-align: right;\">\n",
       "      <th></th>\n",
       "      <th>HI_UPTAKE</th>\n",
       "      <th>SCHOOLS</th>\n",
       "      <th>SBI</th>\n",
       "      <th>MC</th>\n",
       "      <th>CCY</th>\n",
       "      <th>SM</th>\n",
       "    </tr>\n",
       "  </thead>\n",
       "  <tbody>\n",
       "    <tr>\n",
       "      <th>0</th>\n",
       "      <td>1</td>\n",
       "      <td>2</td>\n",
       "      <td>1</td>\n",
       "      <td>0</td>\n",
       "      <td>0</td>\n",
       "      <td>0</td>\n",
       "    </tr>\n",
       "    <tr>\n",
       "      <th>1</th>\n",
       "      <td>1</td>\n",
       "      <td>2</td>\n",
       "      <td>1</td>\n",
       "      <td>0</td>\n",
       "      <td>0</td>\n",
       "      <td>0</td>\n",
       "    </tr>\n",
       "    <tr>\n",
       "      <th>2</th>\n",
       "      <td>1</td>\n",
       "      <td>2</td>\n",
       "      <td>1</td>\n",
       "      <td>0</td>\n",
       "      <td>0</td>\n",
       "      <td>0</td>\n",
       "    </tr>\n",
       "    <tr>\n",
       "      <th>3</th>\n",
       "      <td>1</td>\n",
       "      <td>2</td>\n",
       "      <td>1</td>\n",
       "      <td>0</td>\n",
       "      <td>1</td>\n",
       "      <td>1</td>\n",
       "    </tr>\n",
       "    <tr>\n",
       "      <th>4</th>\n",
       "      <td>1</td>\n",
       "      <td>1</td>\n",
       "      <td>1</td>\n",
       "      <td>1</td>\n",
       "      <td>0</td>\n",
       "      <td>0</td>\n",
       "    </tr>\n",
       "  </tbody>\n",
       "</table>\n",
       "</div>"
      ],
      "text/plain": [
       "   HI_UPTAKE  SCHOOLS  SBI  MC  CCY  SM\n",
       "0          1        2    1   0    0   0\n",
       "1          1        2    1   0    0   0\n",
       "2          1        2    1   0    0   0\n",
       "3          1        2    1   0    1   1\n",
       "4          1        1    1   1    0   0"
      ]
     },
     "execution_count": 8,
     "metadata": {},
     "output_type": "execute_result"
    }
   ],
   "source": [
    "# Import csv to pandas dataframe\n",
    "df_complete = pd.read_csv('dataset_whitaker.csv')\n",
    "\n",
    "# Select only the variables used in the R script of Whitaker et al. (2020)\n",
    "df = df_complete[[\"HI_UPTAKE\",\"SCHOOLS\", \"SBI\", \"MC\", \"CCY\", \"SM\"]]\n",
    "df.head()"
   ]
  },
  {
   "cell_type": "code",
   "execution_count": 38,
   "metadata": {},
   "outputs": [
    {
     "name": "stderr",
     "output_type": "stream",
     "text": [
      "Working for n conditional variables: 2:  13%|█▎        | 2/15 [00:00<00:00, 68.17it/s]\n"
     ]
    }
   ],
   "source": [
    "pc_estimation = estimators.PC(data=df).estimate(variant = 'stable', max_cond_vars = 15, return_type = \"cpdag\", significance_level = 0.10)\n"
   ]
  },
  {
   "cell_type": "code",
   "execution_count": 39,
   "metadata": {},
   "outputs": [],
   "source": [
    "import networkx as nx\n",
    "import matplotlib.pyplot as plt"
   ]
  },
  {
   "cell_type": "code",
   "execution_count": 40,
   "metadata": {},
   "outputs": [],
   "source": [
    "G = nx.Graph()\n",
    "G.add_edges_from(pc_estimation.edges())"
   ]
  },
  {
   "cell_type": "code",
   "execution_count": 41,
   "metadata": {},
   "outputs": [
    {
     "data": {
      "image/png": "[encoded data removed]",
      "text/plain": [
       "<Figure size 640x480 with 1 Axes>"
      ]
     },
     "metadata": {},
     "output_type": "display_data"
    }
   ],
   "source": [
    "nx.draw(G, with_labels=True, font_weight='bold')\n",
    "plt.show()"
   ]
  },
  {
   "cell_type": "code",
   "execution_count": 42,
   "metadata": {},
   "outputs": [
    {
     "name": "stderr",
     "output_type": "stream",
     "text": [
      "  0%|          | 0/1000000 [00:00<?, ?it/s]\n"
     ]
    }
   ],
   "source": [
    "est = estimators.MmhcEstimator(data=df)\n",
    "dag = est.estimate()"
   ]
  },
  {
   "cell_type": "code",
   "execution_count": 43,
   "metadata": {},
   "outputs": [
    {
     "data": {
      "image/png": "[encoded data removed]",
      "text/plain": [
       "<Figure size 640x480 with 1 Axes>"
      ]
     },
     "metadata": {},
     "output_type": "display_data"
    }
   ],
   "source": [
    "nx.draw_kamada_kawai(dag, with_labels=True, font_weight='bold')\n",
    "plt.show()"
   ]
  },
  {
   "cell_type": "code",
   "execution_count": 44,
   "metadata": {},
   "outputs": [],
   "source": [
    "est = estimators.ExhaustiveSearch(data=df)"
   ]
  },
  {
   "cell_type": "code",
   "execution_count": 17,
   "metadata": {},
   "outputs": [],
   "source": [
    "#dag = est.estimate()  # This one is very heavy"
   ]
  },
  {
   "cell_type": "code",
   "execution_count": null,
   "metadata": {},
   "outputs": [],
   "source": [
    "nx.draw_kamada_kawai(dag, with_labels=True, font_weight='bold')\n",
    "plt.show()"
   ]
  },
  {
   "cell_type": "code",
   "execution_count": 9,
   "metadata": {},
   "outputs": [],
   "source": [
    "from pgmpy.estimators import CITests"
   ]
  },
  {
   "cell_type": "markdown",
   "metadata": {},
   "source": [
    "# Conditional Independence Tests\n",
    "\n",
    "Here I just test the conditional independencies implied by the causal graph of Whitaker et al. (2020) preferred model.\n",
    "Letting $S$ for 'SCHOOLS', $Y$ for 'CCY', and $U$ for 'HI_UPTAKE', recall that the paper finds:\n",
    "$$S = 2 + S = 1 * Y = 0 ↔ U = 1$$\n",
    "\n",
    "This can be put into a causal graph, since it imples that $S → U$ and $Y → U$, and no causal link was found between $S$ and $Y$:\n",
    "$$S → U ← Y$$\n",
    "\n",
    "Furthermore, now we can take this causal graph and calculate its associated conditional independencies.\n",
    "We can compute the CIs in this case by hand quickly, thanks to the rules of d-separation on *colliders*:\n",
    "\n",
    "+ $¬(U\\; \\_||\\_\\; S)$\n",
    "+ $¬(U\\; \\_||\\_\\; Y)$\n",
    "+ $(S\\; \\_||\\_\\; Y)$\n",
    "+ $¬(S\\; \\_||\\_\\; Y | S)$\n",
    "\n",
    "In parallel, we can also compute the conditional independencies from the data set.\n",
    "Contrasting both sets of conditional independencies will then tell us whether CNA and interventionism arrive at the same causal conclusions, or not."
   ]
  },
  {
   "cell_type": "markdown",
   "metadata": {},
   "source": [
    "`pgmpy.estimators.CITests` provides different algorithms to compute conditional independencies in a dataset.\n",
    "All of these *test the null hypothesis that* $X\\; \\_||\\_\\; Y \\; | \\; Z$ and output `True` or `False`.\n",
    "Note that $Z$ can be the empty set.\n",
    "See the [official documentation](https://pgmpy.org/structure_estimator/pc.html#module-pgmpy.estimators.CITests).\n"
   ]
  },
  {
   "cell_type": "code",
   "execution_count": 16,
   "metadata": {},
   "outputs": [
    {
     "name": "stdout",
     "output_type": "stream",
     "text": [
      "\n",
      "chi_square:\n",
      "on U _||_ S: False\n",
      "on U _||_ Y: True\n",
      "on S _||_ Y: True\n",
      "on S _||_ Y | U: True\n",
      "\n",
      "cressie_read:\n",
      "on U _||_ S: False\n",
      "on U _||_ Y: True\n",
      "on S _||_ Y: True\n",
      "on S _||_ Y | U: True\n",
      "\n",
      "freeman_tuckey:\n",
      "on U _||_ S: False\n",
      "on U _||_ Y: True\n",
      "on S _||_ Y: True\n",
      "on S _||_ Y | U: True\n",
      "\n"
     ]
    },
    {
     "name": "stderr",
     "output_type": "stream",
     "text": [
      "/home/alebg/Investigación/21- PhD UNIGE/Cases/.venv/lib/python3.11/site-packages/scipy/stats/_stats_py.py:8073: RuntimeWarning: divide by zero encountered in power\n",
      "  terms = f_obs * ((f_obs / f_exp)**lambda_ - 1)\n",
      "/home/alebg/Investigación/21- PhD UNIGE/Cases/.venv/lib/python3.11/site-packages/scipy/stats/_stats_py.py:8073: RuntimeWarning: invalid value encountered in multiply\n",
      "  terms = f_obs * ((f_obs / f_exp)**lambda_ - 1)\n"
     ]
    }
   ],
   "source": [
    "data = df_complete\n",
    "\n",
    "for citest in [CITests.chi_square, CITests.cressie_read, CITests.freeman_tuckey]:\n",
    "    u_ci_s = citest(X='HI_UPTAKE', Y='SCHOOLS', Z=[], data=data, significance_level=0.05)\n",
    "    u_ci_y = citest(X='HI_UPTAKE', Y='CCY', Z=[], data=data, significance_level=0.05)\n",
    "    s_ci_y = citest(X='SCHOOLS', Y='CCY', Z=[], data=data, significance_level=0.05)\n",
    "    s_ci_y_cond_u = citest(X='SCHOOLS', Y='CCY', Z=['HI_UPTAKE'], data=data, significance_level=0.05)\n",
    "\n",
    "    print(f\"\\n{citest.__name__}:\")\n",
    "    print(f\"on U _||_ S: {u_ci_s}\")\n",
    "    print(f\"on U _||_ Y: {u_ci_y}\")\n",
    "    print(f\"on S _||_ Y: {s_ci_y}\")\n",
    "    print(f\"on S _||_ Y | U: {s_ci_y_cond_u}\")\n",
    "\n",
    "print()\n"
   ]
  },
  {
   "cell_type": "code",
   "execution_count": null,
   "metadata": {},
   "outputs": [],
   "source": []
  }
 ],
 "metadata": {
  "kernelspec": {
   "display_name": ".venv",
   "language": "python",
   "name": "python3"
  },
  "language_info": {
   "codemirror_mode": {
    "name": "ipython",
    "version": 3
   },
   "file_extension": ".py",
   "mimetype": "text/x-python",
   "name": "python",
   "nbconvert_exporter": "python",
   "pygments_lexer": "ipython3",
   "version": "3.11.6"
  }
 },
 "nbformat": 4,
 "nbformat_minor": 2
}
