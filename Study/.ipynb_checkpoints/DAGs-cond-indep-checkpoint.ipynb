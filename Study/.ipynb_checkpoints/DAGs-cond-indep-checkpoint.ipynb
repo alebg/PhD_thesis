{
 "cells": [
  {
   "cell_type": "code",
   "execution_count": null,
   "id": "e7670ab0-acb0-4298-9744-ac2774b5c260",
   "metadata": {},
   "outputs": [],
   "source": [
    "library(dagitty)\n",
    "library(lavaan)"
   ]
  },
  {
   "cell_type": "markdown",
   "id": "f1a84dc6-1cdd-4524-b123-cd9a17753a1a",
   "metadata": {},
   "source": [
    "We'll work with one of Pearl's SCM examples meant to represent the salary of a person as an effect of both her years of schooling and years in the profession.\n",
    "So, the SCM contains $X$ being *years of schooling*, $Y$ *years in the profession*, $Z$ *salary*, and the function $$f_Z : Z = 3X + 2Y$$"
   ]
  },
  {
   "cell_type": "markdown",
   "id": "42e28829-c99e-454e-aa65-27f16201419d",
   "metadata": {},
   "source": [
    "Let's first generate a causal graph that matches the SCM above:"
   ]
  },
  {
   "cell_type": "code",
   "execution_count": 2,
   "id": "6cc664b0-acea-4e22-a7fa-86fc0e2e8b61",
   "metadata": {},
   "outputs": [],
   "source": [
    "g <- dagitty('dag {\n",
    "             X [pos=\"0,0\"]\n",
    "             Y [pos=\"0,2\"]\n",
    "             Z [pos=\"1,1\"]\n",
    "  X -> Z\n",
    "  Y -> Z  \n",
    "}')"
   ]
  },
  {
   "cell_type": "code",
   "execution_count": 3,
   "id": "cc3e8994-60e6-44ce-b0af-da00f9f6cb46",
   "metadata": {},
   "outputs": [
    {
     "data": {
      "image/png": "[encoded data removed]",
      "text/plain": [
       "plot without title"
      ]
     },
     "metadata": {
      "image/png": {
       "height": 420,
       "width": 420
      }
     },
     "output_type": "display_data"
    }
   ],
   "source": [
    "plot(g)"
   ]
  },
  {
   "cell_type": "markdown",
   "id": "c4616db3-7426-4a41-ac39-c5c1fdd8bda5",
   "metadata": {},
   "source": [
    "Now we'll use the `lavaan` library and its syntax to implement the SCM in R:"
   ]
  },
  {
   "cell_type": "code",
   "execution_count": 4,
   "id": "e935de25-bcf0-484e-9073-c1c4026f7645",
   "metadata": {},
   "outputs": [],
   "source": [
    "lavaan_model <- \"Z ~ 3*X + 2*Y\""
   ]
  },
  {
   "cell_type": "markdown",
   "id": "30af1945-7612-42ff-9965-4eeab6d15ae0",
   "metadata": {},
   "source": [
    "In order to illustrate how Pearl's ideas may work wil real-world datasets, we will artificially generate a small data set of 10 observations from this SCM plus some random noise:"
   ]
  },
  {
   "cell_type": "code",
   "execution_count": 5,
   "id": "6c16fa83-2443-4a16-aca3-20b590c3dbd3",
   "metadata": {},
   "outputs": [],
   "source": [
    "# Set the pseudorandom number generator seed, makes this script's outcomes the same always\n",
    "set.seed(12345)\n",
    "g_tbl <- simulateData(lavaan_model, sample.nobs=10)"
   ]
  },
  {
   "cell_type": "code",
   "execution_count": 6,
   "id": "a5524fc4-d123-4483-8aff-ac1e542a9282",
   "metadata": {},
   "outputs": [
    {
     "data": {
      "text/html": [
       "<table class=\"dataframe\">\n",
       "<caption>A data.frame: 10 x 3</caption>\n",
       "<thead>\n",
       "\t<tr><th scope=col>Z</th><th scope=col>X</th><th scope=col>Y</th></tr>\n",
       "\t<tr><th scope=col>&lt;dbl&gt;</th><th scope=col>&lt;dbl&gt;</th><th scope=col>&lt;dbl&gt;</th></tr>\n",
       "</thead>\n",
       "<tbody>\n",
       "\t<tr><td> 2.2410623</td><td> 0.3736241</td><td> 0.10937027</td></tr>\n",
       "\t<tr><td> 2.7485590</td><td>-0.7400342</td><td> 1.69078114</td></tr>\n",
       "\t<tr><td>-0.4506860</td><td>-0.1593232</td><td> 0.33922380</td></tr>\n",
       "\t<tr><td>-1.7972664</td><td>-0.3301132</td><td> 0.40514688</td></tr>\n",
       "\t<tr><td> 2.1631033</td><td> 1.2374138</td><td>-0.07708463</td></tr>\n",
       "\t<tr><td>-6.6841226</td><td>-2.2937990</td><td>-0.54740791</td></tr>\n",
       "\t<tr><td> 2.3260337</td><td> 1.0996164</td><td>-0.33219156</td></tr>\n",
       "\t<tr><td>-0.9930119</td><td>-0.1678624</td><td>-0.51041491</td></tr>\n",
       "\t<tr><td>-1.0233848</td><td>-0.9781515</td><td> 0.69482796</td></tr>\n",
       "\t<tr><td>-3.4497942</td><td>-0.8723974</td><td>-0.22257707</td></tr>\n",
       "</tbody>\n",
       "</table>\n"
      ],
      "text/latex": [
       "A data.frame: 10 x 3\n",
       "\\begin{tabular}{lll}\n",
       " Z & X & Y\\\\\n",
       " <dbl> & <dbl> & <dbl>\\\\\n",
       "\\hline\n",
       "\t  2.2410623 &  0.3736241 &  0.10937027\\\\\n",
       "\t  2.7485590 & -0.7400342 &  1.69078114\\\\\n",
       "\t -0.4506860 & -0.1593232 &  0.33922380\\\\\n",
       "\t -1.7972664 & -0.3301132 &  0.40514688\\\\\n",
       "\t  2.1631033 &  1.2374138 & -0.07708463\\\\\n",
       "\t -6.6841226 & -2.2937990 & -0.54740791\\\\\n",
       "\t  2.3260337 &  1.0996164 & -0.33219156\\\\\n",
       "\t -0.9930119 & -0.1678624 & -0.51041491\\\\\n",
       "\t -1.0233848 & -0.9781515 &  0.69482796\\\\\n",
       "\t -3.4497942 & -0.8723974 & -0.22257707\\\\\n",
       "\\end{tabular}\n"
      ],
      "text/markdown": [
       "\n",
       "A data.frame: 10 x 3\n",
       "\n",
       "| Z &lt;dbl&gt; | X &lt;dbl&gt; | Y &lt;dbl&gt; |\n",
       "|---|---|---|\n",
       "|  2.2410623 |  0.3736241 |  0.10937027 |\n",
       "|  2.7485590 | -0.7400342 |  1.69078114 |\n",
       "| -0.4506860 | -0.1593232 |  0.33922380 |\n",
       "| -1.7972664 | -0.3301132 |  0.40514688 |\n",
       "|  2.1631033 |  1.2374138 | -0.07708463 |\n",
       "| -6.6841226 | -2.2937990 | -0.54740791 |\n",
       "|  2.3260337 |  1.0996164 | -0.33219156 |\n",
       "| -0.9930119 | -0.1678624 | -0.51041491 |\n",
       "| -1.0233848 | -0.9781515 |  0.69482796 |\n",
       "| -3.4497942 | -0.8723974 | -0.22257707 |\n",
       "\n"
      ],
      "text/plain": [
       "   Z          X          Y          \n",
       "1   2.2410623  0.3736241  0.10937027\n",
       "2   2.7485590 -0.7400342  1.69078114\n",
       "3  -0.4506860 -0.1593232  0.33922380\n",
       "4  -1.7972664 -0.3301132  0.40514688\n",
       "5   2.1631033  1.2374138 -0.07708463\n",
       "6  -6.6841226 -2.2937990 -0.54740791\n",
       "7   2.3260337  1.0996164 -0.33219156\n",
       "8  -0.9930119 -0.1678624 -0.51041491\n",
       "9  -1.0233848 -0.9781515  0.69482796\n",
       "10 -3.4497942 -0.8723974 -0.22257707"
      ]
     },
     "metadata": {},
     "output_type": "display_data"
    }
   ],
   "source": [
    "g_tbl"
   ]
  },
  {
   "cell_type": "markdown",
   "id": "617d66e3-225f-482e-8146-77dad25d6768",
   "metadata": {},
   "source": [
    "And now, to get even closer to a real-world situation, we'll fit the SCM defined above *without the coefficients* to the artificially generated data set using a traditional structured equations model (SEM).\n",
    "This situation may occur whenever we have a causal graph that represents a plausible (causal) hypothesis given our background knowledge, but when we do not have a specific SCM compatible with our graph:"
   ]
  },
  {
   "cell_type": "code",
   "execution_count": 7,
   "id": "c02dab5b-afba-48ad-871c-4cddf8273971",
   "metadata": {},
   "outputs": [],
   "source": [
    "lavaan_model_no_coefs <- \"Z ~ X + Y\"\n",
    "lavaan_fit <- sem(lavaan_model_no_coefs, data=g_tbl)"
   ]
  },
  {
   "cell_type": "markdown",
   "id": "284d47e3-b8be-4be5-b67f-292d3e06a8f6",
   "metadata": {},
   "source": [
    "Even though our data set only has 10 observations, the estimation has correct confidence intervals that capture the original SCM coefficients (3 for $X$, 2 for $Y$):"
   ]
  },
  {
   "cell_type": "code",
   "execution_count": 8,
   "id": "faaac56e-932d-4f7b-a3cf-0d6f84d04207",
   "metadata": {},
   "outputs": [
    {
     "data": {
      "text/html": [
       "<table class=\"dataframe\">\n",
       "<caption>A lavaan.data.frame: 6 x 9</caption>\n",
       "<thead>\n",
       "\t<tr><th scope=col>lhs</th><th scope=col>op</th><th scope=col>rhs</th><th scope=col>est</th><th scope=col>se</th><th scope=col>z</th><th scope=col>pvalue</th><th scope=col>ci.lower</th><th scope=col>ci.upper</th></tr>\n",
       "\t<tr><th scope=col>&lt;chr&gt;</th><th scope=col>&lt;chr&gt;</th><th scope=col>&lt;chr&gt;</th><th scope=col>&lt;dbl&gt;</th><th scope=col>&lt;dbl&gt;</th><th scope=col>&lt;dbl&gt;</th><th scope=col>&lt;dbl&gt;</th><th scope=col>&lt;dbl&gt;</th><th scope=col>&lt;dbl&gt;</th></tr>\n",
       "</thead>\n",
       "<tbody>\n",
       "\t<tr><td>Z</td><td>~ </td><td>X</td><td> 2.46867205</td><td>0.2776809</td><td>8.890320</td><td>0.000000e+00</td><td> 1.92442751</td><td> 3.01291658</td></tr>\n",
       "\t<tr><td>Z</td><td>~ </td><td>Y</td><td> 2.29442526</td><td>0.4276380</td><td>5.365344</td><td>8.079505e-08</td><td> 1.45627009</td><td> 3.13258042</td></tr>\n",
       "\t<tr><td>Z</td><td>~~</td><td>Z</td><td> 0.74721956</td><td>0.3341667</td><td>2.236068</td><td>2.534732e-02</td><td> 0.09226477</td><td> 1.40217435</td></tr>\n",
       "\t<tr><td>X</td><td>~~</td><td>X</td><td> 0.97680316</td><td>0.0000000</td><td>      NA</td><td>          NA</td><td> 0.97680316</td><td> 0.97680316</td></tr>\n",
       "\t<tr><td>X</td><td>~~</td><td>Y</td><td>-0.05642633</td><td>0.0000000</td><td>      NA</td><td>          NA</td><td>-0.05642633</td><td>-0.05642633</td></tr>\n",
       "\t<tr><td>Y</td><td>~~</td><td>Y</td><td> 0.41185691</td><td>0.0000000</td><td>      NA</td><td>          NA</td><td> 0.41185691</td><td> 0.41185691</td></tr>\n",
       "</tbody>\n",
       "</table>\n"
      ],
      "text/latex": [
       "A lavaan.data.frame: 6 x 9\n",
       "\\begin{tabular}{lllllllll}\n",
       " lhs & op & rhs & est & se & z & pvalue & ci.lower & ci.upper\\\\\n",
       " <chr> & <chr> & <chr> & <dbl> & <dbl> & <dbl> & <dbl> & <dbl> & <dbl>\\\\\n",
       "\\hline\n",
       "\t Z & \\textasciitilde{}  & X &  2.46867205 & 0.2776809 & 8.890320 & 0.000000e+00 &  1.92442751 &  3.01291658\\\\\n",
       "\t Z & \\textasciitilde{}  & Y &  2.29442526 & 0.4276380 & 5.365344 & 8.079505e-08 &  1.45627009 &  3.13258042\\\\\n",
       "\t Z & \\textasciitilde{}\\textasciitilde{} & Z &  0.74721956 & 0.3341667 & 2.236068 & 2.534732e-02 &  0.09226477 &  1.40217435\\\\\n",
       "\t X & \\textasciitilde{}\\textasciitilde{} & X &  0.97680316 & 0.0000000 &       NA &           NA &  0.97680316 &  0.97680316\\\\\n",
       "\t X & \\textasciitilde{}\\textasciitilde{} & Y & -0.05642633 & 0.0000000 &       NA &           NA & -0.05642633 & -0.05642633\\\\\n",
       "\t Y & \\textasciitilde{}\\textasciitilde{} & Y &  0.41185691 & 0.0000000 &       NA &           NA &  0.41185691 &  0.41185691\\\\\n",
       "\\end{tabular}\n"
      ],
      "text/markdown": [
       "\n",
       "A lavaan.data.frame: 6 x 9\n",
       "\n",
       "| lhs &lt;chr&gt; | op &lt;chr&gt; | rhs &lt;chr&gt; | est &lt;dbl&gt; | se &lt;dbl&gt; | z &lt;dbl&gt; | pvalue &lt;dbl&gt; | ci.lower &lt;dbl&gt; | ci.upper &lt;dbl&gt; |\n",
       "|---|---|---|---|---|---|---|---|---|\n",
       "| Z | ~  | X |  2.46867205 | 0.2776809 | 8.890320 | 0.000000e+00 |  1.92442751 |  3.01291658 |\n",
       "| Z | ~  | Y |  2.29442526 | 0.4276380 | 5.365344 | 8.079505e-08 |  1.45627009 |  3.13258042 |\n",
       "| Z | ~~ | Z |  0.74721956 | 0.3341667 | 2.236068 | 2.534732e-02 |  0.09226477 |  1.40217435 |\n",
       "| X | ~~ | X |  0.97680316 | 0.0000000 |       NA |           NA |  0.97680316 |  0.97680316 |\n",
       "| X | ~~ | Y | -0.05642633 | 0.0000000 |       NA |           NA | -0.05642633 | -0.05642633 |\n",
       "| Y | ~~ | Y |  0.41185691 | 0.0000000 |       NA |           NA |  0.41185691 |  0.41185691 |\n",
       "\n"
      ],
      "text/plain": [
       "  lhs op rhs est         se        z        pvalue       ci.lower   \n",
       "1 Z   ~  X    2.46867205 0.2776809 8.890320 0.000000e+00  1.92442751\n",
       "2 Z   ~  Y    2.29442526 0.4276380 5.365344 8.079505e-08  1.45627009\n",
       "3 Z   ~~ Z    0.74721956 0.3341667 2.236068 2.534732e-02  0.09226477\n",
       "4 X   ~~ X    0.97680316 0.0000000       NA           NA  0.97680316\n",
       "5 X   ~~ Y   -0.05642633 0.0000000       NA           NA -0.05642633\n",
       "6 Y   ~~ Y    0.41185691 0.0000000       NA           NA  0.41185691\n",
       "  ci.upper   \n",
       "1  3.01291658\n",
       "2  3.13258042\n",
       "3  1.40217435\n",
       "4  0.97680316\n",
       "5 -0.05642633\n",
       "6  0.41185691"
      ]
     },
     "metadata": {},
     "output_type": "display_data"
    }
   ],
   "source": [
    "parameterEstimates(lavaan_fit)"
   ]
  },
  {
   "cell_type": "markdown",
   "id": "4ffbe023-f615-48cb-94e6-46512819ab1d",
   "metadata": {},
   "source": [
    "In parallel to this, we can also fit a linear model with `lm()` to Z and X alone, using the data generated above:"
   ]
  },
  {
   "cell_type": "code",
   "execution_count": 9,
   "id": "9bdda97f-9b6d-43ef-99b3-af4250997e95",
   "metadata": {},
   "outputs": [
    {
     "data": {
      "text/plain": [
       "\n",
       "Call:\n",
       "lm(formula = Z ~ X, data = g_tbl)\n",
       "\n",
       "Coefficients:\n",
       "(Intercept)            X  \n",
       "     0.1694       2.3361  \n"
      ]
     },
     "metadata": {},
     "output_type": "display_data"
    }
   ],
   "source": [
    "lm(Z ~ X, data=g_tbl)"
   ]
  },
  {
   "cell_type": "markdown",
   "id": "212b0b13-ac14-4aaa-b992-26e5d38de09b",
   "metadata": {},
   "source": [
    "For the simple collider model $X → Z ← Y$, by the rules of Pearl's d-separation we know that $X$ and $Y$ are unconditionally independent, and that conditioning on $Z$ renders them dependent.\n",
    "That is, for all possible values $x,y$ that $X,Y$ can assume correspondingly:\n",
    "$$P(X = x | Y = y) = P(X = x)$$\n",
    "*except* whenever we condition on $Z$.\n",
    "\n",
    "Conveniently, dagitty's `impliedConditionalIndependencies()` will give us all of the conditional independencies implied by a graph using precisely Pearl's d-separation rules.\n",
    "Unsurprisingly, the conclusion is the same ($X$ and $Y$ are independent):"
   ]
  },
  {
   "cell_type": "code",
   "execution_count": 10,
   "id": "0b4cb013-d354-4e02-a5b8-312087c88022",
   "metadata": {},
   "outputs": [
    {
     "data": {
      "text/plain": [
       "X _||_ Y"
      ]
     },
     "metadata": {},
     "output_type": "display_data"
    }
   ],
   "source": [
    "impliedConditionalIndependencies(g)"
   ]
  },
  {
   "cell_type": "markdown",
   "id": "6185eb00-4080-499b-a51b-c996bac84349",
   "metadata": {},
   "source": [
    "This implication of a causal model can be tested against regressions on empirical data sets, recalling that the independence of two variables implies that their regression equals $0$:"
   ]
  },
  {
   "cell_type": "code",
   "execution_count": 11,
   "id": "70aa7c19-9987-4eb1-9747-df5e347470b9",
   "metadata": {},
   "outputs": [
    {
     "data": {
      "text/plain": [
       "\n",
       "Call:\n",
       "lm(formula = Y ~ X, data = g_tbl)\n",
       "\n",
       "Coefficients:\n",
       "(Intercept)            X  \n",
       "    0.13861     -0.05777  \n"
      ]
     },
     "metadata": {},
     "output_type": "display_data"
    }
   ],
   "source": [
    "lm(Y ~ X, data=g_tbl)"
   ]
  },
  {
   "cell_type": "markdown",
   "id": "56c1bc9b-2ef1-4dae-8c83-7c450026db18",
   "metadata": {},
   "source": [
    "As this data by design does not match exactly the original SCM, the regression outputs a non-zero value.\n",
    "It is close to zero though, a situation that changes when we condition on $Z$, rendering both variables clearly dependent:"
   ]
  },
  {
   "cell_type": "code",
   "execution_count": 12,
   "id": "f8c79c8a-29a1-45f0-89ae-b37a6b77834c",
   "metadata": {},
   "outputs": [
    {
     "data": {
      "text/plain": [
       "\n",
       "Call:\n",
       "lm(formula = Y ~ X + Z, data = g_tbl)\n",
       "\n",
       "Coefficients:\n",
       "(Intercept)            X            Z  \n",
       "    0.08381     -0.81344      0.32347  \n"
      ]
     },
     "metadata": {},
     "output_type": "display_data"
    }
   ],
   "source": [
    "lm(Y ~ X + Z, data=g_tbl)"
   ]
  },
  {
   "cell_type": "markdown",
   "id": "c461e422-be49-4136-a37b-f465a3e5f8c1",
   "metadata": {},
   "source": [
    "So the situation is the following:\n",
    "in our causal graph we do not have a link between $X$ and $Y$;\n",
    "however, our (artificially generated, with some random noise) data set implies that $X$ and $Y$ are not strictly independent (as their regression is nonzero), meaning that a causal graph representing them should include a link between $X$ and $Y$.\n",
    "However, note that the confidence intervals estimated above actually include the coefficients of the original SCM, meaning that this mismatch is not enough to reject our original causal model as the correct representation of the data set."
   ]
  },
  {
   "cell_type": "markdown",
   "id": "8798f6f7-8d5f-475f-808a-cabf01549503",
   "metadata": {},
   "source": [
    "Let's now see what happens with more (artificial) observations.\n",
    "This time we'll repeat the whole process with a bigger (artificial) data set containing 1000 observations:"
   ]
  },
  {
   "cell_type": "code",
   "execution_count": 13,
   "id": "84f88fe5-9703-4e40-98fa-080529c5ff4c",
   "metadata": {},
   "outputs": [
    {
     "data": {
      "text/html": [
       "<table class=\"dataframe\">\n",
       "<caption>A lavaan.data.frame: 6 x 9</caption>\n",
       "<thead>\n",
       "\t<tr><th scope=col>lhs</th><th scope=col>op</th><th scope=col>rhs</th><th scope=col>est</th><th scope=col>se</th><th scope=col>z</th><th scope=col>pvalue</th><th scope=col>ci.lower</th><th scope=col>ci.upper</th></tr>\n",
       "\t<tr><th scope=col>&lt;chr&gt;</th><th scope=col>&lt;chr&gt;</th><th scope=col>&lt;chr&gt;</th><th scope=col>&lt;dbl&gt;</th><th scope=col>&lt;dbl&gt;</th><th scope=col>&lt;dbl&gt;</th><th scope=col>&lt;dbl&gt;</th><th scope=col>&lt;dbl&gt;</th><th scope=col>&lt;dbl&gt;</th></tr>\n",
       "</thead>\n",
       "<tbody>\n",
       "\t<tr><td>Z</td><td>~ </td><td>X</td><td>3.006043019</td><td>0.03051025</td><td>98.52566</td><td> 0</td><td>2.946244019</td><td>3.065842020</td></tr>\n",
       "\t<tr><td>Z</td><td>~ </td><td>Y</td><td>2.003098683</td><td>0.02928910</td><td>68.39058</td><td> 0</td><td>1.945693097</td><td>2.060504269</td></tr>\n",
       "\t<tr><td>Z</td><td>~~</td><td>Z</td><td>0.904099344</td><td>0.04043255</td><td>22.36068</td><td> 0</td><td>0.824852998</td><td>0.983345689</td></tr>\n",
       "\t<tr><td>X</td><td>~~</td><td>X</td><td>0.971248305</td><td>0.00000000</td><td>      NA</td><td>NA</td><td>0.971248305</td><td>0.971248305</td></tr>\n",
       "\t<tr><td>X</td><td>~~</td><td>Y</td><td>0.003692934</td><td>0.00000000</td><td>      NA</td><td>NA</td><td>0.003692934</td><td>0.003692934</td></tr>\n",
       "\t<tr><td>Y</td><td>~~</td><td>Y</td><td>1.053925253</td><td>0.00000000</td><td>      NA</td><td>NA</td><td>1.053925253</td><td>1.053925253</td></tr>\n",
       "</tbody>\n",
       "</table>\n"
      ],
      "text/latex": [
       "A lavaan.data.frame: 6 x 9\n",
       "\\begin{tabular}{lllllllll}\n",
       " lhs & op & rhs & est & se & z & pvalue & ci.lower & ci.upper\\\\\n",
       " <chr> & <chr> & <chr> & <dbl> & <dbl> & <dbl> & <dbl> & <dbl> & <dbl>\\\\\n",
       "\\hline\n",
       "\t Z & \\textasciitilde{}  & X & 3.006043019 & 0.03051025 & 98.52566 &  0 & 2.946244019 & 3.065842020\\\\\n",
       "\t Z & \\textasciitilde{}  & Y & 2.003098683 & 0.02928910 & 68.39058 &  0 & 1.945693097 & 2.060504269\\\\\n",
       "\t Z & \\textasciitilde{}\\textasciitilde{} & Z & 0.904099344 & 0.04043255 & 22.36068 &  0 & 0.824852998 & 0.983345689\\\\\n",
       "\t X & \\textasciitilde{}\\textasciitilde{} & X & 0.971248305 & 0.00000000 &       NA & NA & 0.971248305 & 0.971248305\\\\\n",
       "\t X & \\textasciitilde{}\\textasciitilde{} & Y & 0.003692934 & 0.00000000 &       NA & NA & 0.003692934 & 0.003692934\\\\\n",
       "\t Y & \\textasciitilde{}\\textasciitilde{} & Y & 1.053925253 & 0.00000000 &       NA & NA & 1.053925253 & 1.053925253\\\\\n",
       "\\end{tabular}\n"
      ],
      "text/markdown": [
       "\n",
       "A lavaan.data.frame: 6 x 9\n",
       "\n",
       "| lhs &lt;chr&gt; | op &lt;chr&gt; | rhs &lt;chr&gt; | est &lt;dbl&gt; | se &lt;dbl&gt; | z &lt;dbl&gt; | pvalue &lt;dbl&gt; | ci.lower &lt;dbl&gt; | ci.upper &lt;dbl&gt; |\n",
       "|---|---|---|---|---|---|---|---|---|\n",
       "| Z | ~  | X | 3.006043019 | 0.03051025 | 98.52566 |  0 | 2.946244019 | 3.065842020 |\n",
       "| Z | ~  | Y | 2.003098683 | 0.02928910 | 68.39058 |  0 | 1.945693097 | 2.060504269 |\n",
       "| Z | ~~ | Z | 0.904099344 | 0.04043255 | 22.36068 |  0 | 0.824852998 | 0.983345689 |\n",
       "| X | ~~ | X | 0.971248305 | 0.00000000 |       NA | NA | 0.971248305 | 0.971248305 |\n",
       "| X | ~~ | Y | 0.003692934 | 0.00000000 |       NA | NA | 0.003692934 | 0.003692934 |\n",
       "| Y | ~~ | Y | 1.053925253 | 0.00000000 |       NA | NA | 1.053925253 | 1.053925253 |\n",
       "\n"
      ],
      "text/plain": [
       "  lhs op rhs est         se         z        pvalue ci.lower    ci.upper   \n",
       "1 Z   ~  X   3.006043019 0.03051025 98.52566  0     2.946244019 3.065842020\n",
       "2 Z   ~  Y   2.003098683 0.02928910 68.39058  0     1.945693097 2.060504269\n",
       "3 Z   ~~ Z   0.904099344 0.04043255 22.36068  0     0.824852998 0.983345689\n",
       "4 X   ~~ X   0.971248305 0.00000000       NA NA     0.971248305 0.971248305\n",
       "5 X   ~~ Y   0.003692934 0.00000000       NA NA     0.003692934 0.003692934\n",
       "6 Y   ~~ Y   1.053925253 0.00000000       NA NA     1.053925253 1.053925253"
      ]
     },
     "metadata": {},
     "output_type": "display_data"
    }
   ],
   "source": [
    "g_tbl_big <- simulateData(lavaan_model, sample.nobs=1000)\n",
    "lavaan_fit_big <- sem(lavaan_model_no_coefs, data=g_tbl_big)\n",
    "parameterEstimates(lavaan_fit_big)"
   ]
  },
  {
   "cell_type": "markdown",
   "id": "a63fab98-89c7-4a93-8295-1476f56f7577",
   "metadata": {},
   "source": [
    "Now the parameters estimated are much closer to those of the original SCM, and the confidence intervals are much narrower.\n",
    "This of course has implications for the regression of $Y$ on $X$, where the coefficient estimated is much smaller (but still nonzero):"
   ]
  },
  {
   "cell_type": "code",
   "execution_count": 14,
   "id": "2449b626-33e8-44bb-8788-15013d24d0cc",
   "metadata": {},
   "outputs": [
    {
     "data": {
      "text/plain": [
       "\n",
       "Call:\n",
       "lm(formula = Y ~ X, data = g_tbl_big)\n",
       "\n",
       "Coefficients:\n",
       "(Intercept)            X  \n",
       "   0.004493     0.003802  \n"
      ]
     },
     "metadata": {},
     "output_type": "display_data"
    }
   ],
   "source": [
    "lm(Y ~ X, data=g_tbl_big)"
   ]
  }
 ],
 "metadata": {
  "kernelspec": {
   "display_name": "R4.0.4",
   "language": "R",
   "name": "ir40"
  },
  "language_info": {
   "codemirror_mode": "r",
   "file_extension": ".r",
   "mimetype": "text/x-r-source",
   "name": "R",
   "pygments_lexer": "r",
   "version": "4.0.4"
  }
 },
 "nbformat": 4,
 "nbformat_minor": 5
}
