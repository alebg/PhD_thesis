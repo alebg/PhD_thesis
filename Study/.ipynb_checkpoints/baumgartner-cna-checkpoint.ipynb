{
 "cells": [
  {
   "cell_type": "markdown",
   "id": "6e3ac2fd-90e3-4556-9807-e07145b0de52",
   "metadata": {},
   "source": [
    "`cna` R package exemplification.\n",
    "From *Identifying Complex Causal Dependencies in Configurational Data with Coincidence Analysis* (Baumgartner & Thiem, 2015)."
   ]
  },
  {
   "cell_type": "markdown",
   "id": "cd6a52ad-87ef-4945-b618-df092531b4e2",
   "metadata": {},
   "source": [
    "Symbols:\n",
    "\n",
    "- Conjunction: `*` or `&`\n",
    "- Disjunction: `+` or `|`\n",
    "- Negation: `-` or `!` or, in case of crisp-set or fuzzy-set data, by changing upper case into lower case letters and vice versa\n",
    "- Implication: `->`\n",
    "- Equivalence: `<->`"
   ]
  },
  {
   "cell_type": "code",
   "execution_count": 1,
   "id": "f99c36f7-df08-429c-8c1c-fe838cad4d31",
   "metadata": {},
   "outputs": [
    {
     "name": "stderr",
     "output_type": "stream",
     "text": [
      "Registered S3 method overwritten by 'cna':\n",
      "  method          from\n",
      "  some.data.frame car \n",
      "\n"
     ]
    }
   ],
   "source": [
    "library(cna)"
   ]
  },
  {
   "cell_type": "markdown",
   "id": "74099a2b-a272-4b52-a182-0c64cc08b23a",
   "metadata": {},
   "source": [
    "## `d.educate` optimal hypothetical dataset"
   ]
  },
  {
   "cell_type": "markdown",
   "id": "a73f4ab6-62b7-4e30-b69a-ec11e89cd567",
   "metadata": {},
   "source": [
    "Load the example dataset `d.educate` from `cna`:"
   ]
  },
  {
   "cell_type": "code",
   "execution_count": 2,
   "id": "98e91010-2a2d-4e15-8a70-bb1e1e7d2a03",
   "metadata": {},
   "outputs": [
    {
     "name": "stdout",
     "output_type": "stream",
     "text": [
      "  U D L G E\n",
      "A 1 1 1 1 1\n",
      "B 1 1 1 0 1\n",
      "C 1 0 1 1 1\n",
      "D 1 0 1 0 1\n",
      "E 0 1 1 1 1\n",
      "F 0 1 1 0 1\n",
      "G 0 0 0 1 1\n",
      "H 0 0 0 0 0\n"
     ]
    }
   ],
   "source": [
    "data(d.educate)\n",
    "print(d.educate)"
   ]
  },
  {
   "cell_type": "markdown",
   "id": "1e89d45e-67fc-4caa-8cac-d08183f54ccf",
   "metadata": {},
   "source": [
    "The heart of the `cna` package is the `cna()` function.\n",
    "It identifies and minimizes dependencies of sufficiency and necessity in the data.\n",
    "The data passed to `cna()` can be in the form of a Boolean data frame or a truth table (as produced by the `truthTab()` function).\n",
    "\n",
    "`truthTab()` merges multiple rows of a data frame featuring the same configuration into one row, such that each row of the resulting truth table corresponds to one determinate configuration.\n",
    "The number of occurrences (cases) and an enumeration of the cases are saved as attributes ‘ n ’ and ‘ cases ’, respectively.\n",
    "As Table 1 does not contain multiple rows with identical configurations, the application of truthTab() is uncalled for and we can directly pass d.educate on to cna(). \n",
    "Moreover, let us assume that we have no prior causal knowledge about the underlying causal structure, such that we cannot additionally supply a causal ordering.\n",
    "The following is the default output returned by cna():"
   ]
  },
  {
   "cell_type": "code",
   "execution_count": 7,
   "id": "eca618e9-7ed5-4aed-9ea1-506321ec484e",
   "metadata": {},
   "outputs": [
    {
     "data": {
      "text/plain": [
       "--- Coincidence Analysis (CNA) ---\n",
       "\n",
       "Factors: U, D, L, G, E \n",
       "\n",
       "Atomic solution formulas:\n",
       "-------------------------\n",
       "Outcome E:\n",
       " solution        consistency coverage complexity inus\n",
       " L + G <-> E               1        1          2 TRUE\n",
       " U + D + G <-> E           1        1          3 TRUE\n",
       "\n",
       "Outcome L:\n",
       " solution    consistency coverage complexity inus\n",
       " U + D <-> L           1        1          2 TRUE\n",
       "\n",
       "Complex solution formulas:\n",
       "--------------------------\n",
       " outcome solution                        consistency coverage complexity inus\n",
       " E,L     (L + G <-> E)*(U + D <-> L)               1        1          4 TRUE\n",
       " E,L     (U + D + G <-> E)*(U + D <-> L)           1        1          5 TRUE"
      ]
     },
     "metadata": {},
     "output_type": "display_data"
    }
   ],
   "source": [
    "cna(d.educate)"
   ]
  },
  {
   "cell_type": "markdown",
   "id": "98c814f4-e942-4f37-8316-3c076b199de7",
   "metadata": {},
   "source": [
    "Consistency and coverage scores reasch maximal values for the atomic complex solution formulas, hence `d.educate` data are as good as configurational data can possibly get.\n",
    "\n",
    "Notice how by the result on atomic formulas, we have *two* endogenous factors: $L$ and $E$ (but with two possible solutions for $E$, which account for the two complex solutions).\n",
    "And that `cna()` infers that `d.educate` can be modeled in terms of the two complex structures represented in the complex solution formulas (which can be represented as causal graphs):\n",
    "\n",
    "- $(L + G ←→ E)*(U + D ←→ L)$ represents a *causal chain*\n",
    "- $(U + D + G ←→ E)*(U + D ←→ L)$ represents a *common cause* structure\n",
    "\n",
    "As `d.educate` is optimal by all standards of configurational modeling, *there is no way of determining which of these two structures is the true or correct one*.\n"
   ]
  },
  {
   "cell_type": "markdown",
   "id": "dde89c52-194e-4fce-afe9-1d2122723ed7",
   "metadata": {},
   "source": [
    "## `d.irrigate` real-world dataset"
   ]
  },
  {
   "cell_type": "markdown",
   "id": "f335f5a3-d736-47aa-a9ae-03c0c877a195",
   "metadata": {},
   "source": [
    "`d.irrigate`, included in `cna`, comes study by Lam and Ostrom (2010), who analyze the effects of an irrigation experiment in the course of development interventions on the Indrawati River watershed in the central hills of Nepal.\n",
    "They investigate the causal relevance of five exogenous factors on “persistent improvement in water adequacy at the tail end in winter” ($W$), which takes the value 1 when farmers at the tail end of the watershed persistently receive the water they need in winter, and the value 0 otherwise.\n",
    "\n",
    "The five exogenous factors are (for all of these, the values 1 and 0 represent “yes” and “no”, respectively):\n",
    "\n",
    "- ($A$) “continual assistance on infrastructure improvement”\n",
    "- ($R$) “existence of a set of formal rules for irrigation operation and maintenance”\n",
    "- ($F$) “existence of provisions of fines”\n",
    "- ($L$) “existence of consistent leadership”\n",
    "- ($C$) “existence of collective action among farmers for system maintenance” \n"
   ]
  },
  {
   "cell_type": "code",
   "execution_count": 2,
   "id": "d4f3c6b1-c488-487b-8e37-3a0f3b7ba62b",
   "metadata": {},
   "outputs": [
    {
     "data": {
      "text/html": [
       "<table class=\"dataframe\">\n",
       "<caption>A data.frame: 15 x 6</caption>\n",
       "<thead>\n",
       "\t<tr><th></th><th scope=col>A</th><th scope=col>R</th><th scope=col>F</th><th scope=col>L</th><th scope=col>C</th><th scope=col>W</th></tr>\n",
       "\t<tr><th></th><th scope=col>&lt;int&gt;</th><th scope=col>&lt;int&gt;</th><th scope=col>&lt;int&gt;</th><th scope=col>&lt;int&gt;</th><th scope=col>&lt;int&gt;</th><th scope=col>&lt;int&gt;</th></tr>\n",
       "</thead>\n",
       "<tbody>\n",
       "\t<tr><th scope=row>1</th><td>0</td><td>1</td><td>0</td><td>1</td><td>1</td><td>1</td></tr>\n",
       "\t<tr><th scope=row>2</th><td>0</td><td>1</td><td>0</td><td>1</td><td>1</td><td>0</td></tr>\n",
       "\t<tr><th scope=row>3</th><td>0</td><td>1</td><td>1</td><td>1</td><td>1</td><td>1</td></tr>\n",
       "\t<tr><th scope=row>4</th><td>0</td><td>1</td><td>1</td><td>1</td><td>1</td><td>1</td></tr>\n",
       "\t<tr><th scope=row>5</th><td>1</td><td>1</td><td>0</td><td>1</td><td>1</td><td>1</td></tr>\n",
       "\t<tr><th scope=row>6</th><td>1</td><td>1</td><td>0</td><td>1</td><td>1</td><td>1</td></tr>\n",
       "\t<tr><th scope=row>7</th><td>1</td><td>1</td><td>1</td><td>1</td><td>1</td><td>1</td></tr>\n",
       "\t<tr><th scope=row>8</th><td>1</td><td>1</td><td>1</td><td>1</td><td>1</td><td>1</td></tr>\n",
       "\t<tr><th scope=row>9</th><td>0</td><td>0</td><td>0</td><td>0</td><td>1</td><td>1</td></tr>\n",
       "\t<tr><th scope=row>10</th><td>0</td><td>1</td><td>0</td><td>0</td><td>1</td><td>1</td></tr>\n",
       "\t<tr><th scope=row>11</th><td>0</td><td>0</td><td>1</td><td>1</td><td>1</td><td>0</td></tr>\n",
       "\t<tr><th scope=row>12</th><td>1</td><td>0</td><td>0</td><td>0</td><td>0</td><td>0</td></tr>\n",
       "\t<tr><th scope=row>13</th><td>1</td><td>1</td><td>1</td><td>0</td><td>0</td><td>1</td></tr>\n",
       "\t<tr><th scope=row>14</th><td>1</td><td>1</td><td>0</td><td>0</td><td>1</td><td>1</td></tr>\n",
       "\t<tr><th scope=row>15</th><td>1</td><td>1</td><td>1</td><td>0</td><td>1</td><td>1</td></tr>\n",
       "</tbody>\n",
       "</table>\n"
      ],
      "text/latex": [
       "A data.frame: 15 x 6\n",
       "\\begin{tabular}{r|llllll}\n",
       "  & A & R & F & L & C & W\\\\\n",
       "  & <int> & <int> & <int> & <int> & <int> & <int>\\\\\n",
       "\\hline\n",
       "\t1 & 0 & 1 & 0 & 1 & 1 & 1\\\\\n",
       "\t2 & 0 & 1 & 0 & 1 & 1 & 0\\\\\n",
       "\t3 & 0 & 1 & 1 & 1 & 1 & 1\\\\\n",
       "\t4 & 0 & 1 & 1 & 1 & 1 & 1\\\\\n",
       "\t5 & 1 & 1 & 0 & 1 & 1 & 1\\\\\n",
       "\t6 & 1 & 1 & 0 & 1 & 1 & 1\\\\\n",
       "\t7 & 1 & 1 & 1 & 1 & 1 & 1\\\\\n",
       "\t8 & 1 & 1 & 1 & 1 & 1 & 1\\\\\n",
       "\t9 & 0 & 0 & 0 & 0 & 1 & 1\\\\\n",
       "\t10 & 0 & 1 & 0 & 0 & 1 & 1\\\\\n",
       "\t11 & 0 & 0 & 1 & 1 & 1 & 0\\\\\n",
       "\t12 & 1 & 0 & 0 & 0 & 0 & 0\\\\\n",
       "\t13 & 1 & 1 & 1 & 0 & 0 & 1\\\\\n",
       "\t14 & 1 & 1 & 0 & 0 & 1 & 1\\\\\n",
       "\t15 & 1 & 1 & 1 & 0 & 1 & 1\\\\\n",
       "\\end{tabular}\n"
      ],
      "text/markdown": [
       "\n",
       "A data.frame: 15 x 6\n",
       "\n",
       "| <!--/--> | A &lt;int&gt; | R &lt;int&gt; | F &lt;int&gt; | L &lt;int&gt; | C &lt;int&gt; | W &lt;int&gt; |\n",
       "|---|---|---|---|---|---|---|\n",
       "| 1 | 0 | 1 | 0 | 1 | 1 | 1 |\n",
       "| 2 | 0 | 1 | 0 | 1 | 1 | 0 |\n",
       "| 3 | 0 | 1 | 1 | 1 | 1 | 1 |\n",
       "| 4 | 0 | 1 | 1 | 1 | 1 | 1 |\n",
       "| 5 | 1 | 1 | 0 | 1 | 1 | 1 |\n",
       "| 6 | 1 | 1 | 0 | 1 | 1 | 1 |\n",
       "| 7 | 1 | 1 | 1 | 1 | 1 | 1 |\n",
       "| 8 | 1 | 1 | 1 | 1 | 1 | 1 |\n",
       "| 9 | 0 | 0 | 0 | 0 | 1 | 1 |\n",
       "| 10 | 0 | 1 | 0 | 0 | 1 | 1 |\n",
       "| 11 | 0 | 0 | 1 | 1 | 1 | 0 |\n",
       "| 12 | 1 | 0 | 0 | 0 | 0 | 0 |\n",
       "| 13 | 1 | 1 | 1 | 0 | 0 | 1 |\n",
       "| 14 | 1 | 1 | 0 | 0 | 1 | 1 |\n",
       "| 15 | 1 | 1 | 1 | 0 | 1 | 1 |\n",
       "\n"
      ],
      "text/plain": [
       "   A R F L C W\n",
       "1  0 1 0 1 1 1\n",
       "2  0 1 0 1 1 0\n",
       "3  0 1 1 1 1 1\n",
       "4  0 1 1 1 1 1\n",
       "5  1 1 0 1 1 1\n",
       "6  1 1 0 1 1 1\n",
       "7  1 1 1 1 1 1\n",
       "8  1 1 1 1 1 1\n",
       "9  0 0 0 0 1 1\n",
       "10 0 1 0 0 1 1\n",
       "11 0 0 1 1 1 0\n",
       "12 1 0 0 0 0 0\n",
       "13 1 1 1 0 0 1\n",
       "14 1 1 0 0 1 1\n",
       "15 1 1 1 0 1 1"
      ]
     },
     "metadata": {},
     "output_type": "display_data"
    }
   ],
   "source": [
    "data(d.irrigate)\n",
    "d.irrigate"
   ]
  },
  {
   "cell_type": "markdown",
   "id": "f490291d-f069-4541-8c57-cc5fee7513fb",
   "metadata": {},
   "source": [
    "The authors assume that $W$ is the ultimate outcome of a causal structure, and this assumption can be passed to `cna()` using the `ing = <ordering>` parameter.\n",
    "In this example, the intended ordering\\\n",
    "`ordering = list(c(\"A\",\"R\",\"F\",\"L\",\"C\"),\"W\")`\\\n",
    "means that $W$ comes (causally) *after* all of the other factors, and hence it cannot be a cause of them (only an effect).\n",
    "\n",
    "As it is often the case with real-world data, this does *not* comprise all relevant factors for $W$, hence it is not possible to reach perfect ($1$) coverage scores.\n",
    "We need thus to lower the coverage threshold, and we will do so to $0.9$:"
   ]
  },
  {
   "cell_type": "code",
   "execution_count": 19,
   "id": "ebd51dfa-6917-44eb-ac9e-8447d18446cd",
   "metadata": {},
   "outputs": [
    {
     "data": {
      "text/html": [
       "<table class=\"dataframe\">\n",
       "<caption>A condTbl: 12 x 6</caption>\n",
       "<thead>\n",
       "\t<tr><th></th><th scope=col>outcome</th><th scope=col>condition</th><th scope=col>consistency</th><th scope=col>coverage</th><th scope=col>complexity</th><th scope=col>inus</th></tr>\n",
       "\t<tr><th></th><th scope=col>&lt;otcmStrn&gt;</th><th scope=col>&lt;stdCmplx&gt;</th><th scope=col>&lt;dbl&gt;</th><th scope=col>&lt;dbl&gt;</th><th scope=col>&lt;int&gt;</th><th scope=col>&lt;lgl&gt;</th></tr>\n",
       "</thead>\n",
       "<tbody>\n",
       "\t<tr><th scope=row>1</th><td><span style=white-space:pre-wrap>C,W    </span></td><td><span style=white-space:pre-wrap>(a + L + R*f &lt;-&gt; C)*(A*R + a*l + R*F &lt;-&gt; W)        </span></td><td>1</td><td>0.9166667</td><td>10</td><td>TRUE</td></tr>\n",
       "\t<tr><th scope=row>2</th><td><span style=white-space:pre-wrap>C,W    </span></td><td><span style=white-space:pre-wrap>(a + L + R*f &lt;-&gt; C)*(A*R + R*F + l*C &lt;-&gt; W)        </span></td><td>1</td><td>0.9166667</td><td>10</td><td>TRUE</td></tr>\n",
       "\t<tr><th scope=row>3</th><td><span style=white-space:pre-wrap>C,W    </span></td><td><span style=white-space:pre-wrap>(a + L + R*f &lt;-&gt; C)*(A*L + R*F + l*C &lt;-&gt; W)        </span></td><td>1</td><td>0.9166667</td><td>10</td><td>TRUE</td></tr>\n",
       "\t<tr><th scope=row>4</th><td><span style=white-space:pre-wrap>C,W    </span></td><td><span style=white-space:pre-wrap>(a + L + R*f &lt;-&gt; C)*(a*l + A*C + R*F &lt;-&gt; W)        </span></td><td>1</td><td>0.9166667</td><td>10</td><td>TRUE</td></tr>\n",
       "\t<tr><th scope=row>5</th><td><span style=white-space:pre-wrap>C,W    </span></td><td><span style=white-space:pre-wrap>(a + L + R*f &lt;-&gt; C)*(A*C + R*F + l*C &lt;-&gt; W)        </span></td><td>1</td><td>0.9166667</td><td>10</td><td>TRUE</td></tr>\n",
       "\t<tr><th scope=row>6</th><td><span style=white-space:pre-wrap>C,W    </span></td><td><span style=white-space:pre-wrap>(a + L + R*f &lt;-&gt; C)*(A*L + a*l + R*F + R*l &lt;-&gt; W)  </span></td><td>1</td><td>0.9166667</td><td>12</td><td>TRUE</td></tr>\n",
       "\t<tr><th scope=row>7</th><td><span style=white-space:pre-wrap>C,W    </span></td><td>(a + L + R*f &lt;-&gt; C)*(A*R + R*F + R*l + a*r*f &lt;-&gt; W)</td><td>1</td><td>0.9166667</td><td>13</td><td>TRUE</td></tr>\n",
       "\t<tr><th scope=row>8</th><td><span style=white-space:pre-wrap>C,W    </span></td><td>(a + L + R*f &lt;-&gt; C)*(A*R + R*F + R*l + r*f*C &lt;-&gt; W)</td><td>1</td><td>0.9166667</td><td>13</td><td>TRUE</td></tr>\n",
       "\t<tr><th scope=row>9</th><td><span style=white-space:pre-wrap>C,W    </span></td><td>(a + L + R*f &lt;-&gt; C)*(A*L + R*F + R*l + a*r*f &lt;-&gt; W)</td><td>1</td><td>0.9166667</td><td>13</td><td>TRUE</td></tr>\n",
       "\t<tr><th scope=row>10</th><td><span style=white-space:pre-wrap>C,W    </span></td><td>(a + L + R*f &lt;-&gt; C)*(A*L + R*F + R*l + r*f*C &lt;-&gt; W)</td><td>1</td><td>0.9166667</td><td>13</td><td>TRUE</td></tr>\n",
       "\t<tr><th scope=row>11</th><td><span style=white-space:pre-wrap>C,W    </span></td><td>(a + L + R*f &lt;-&gt; C)*(A*C + R*F + R*l + a*r*f &lt;-&gt; W)</td><td>1</td><td>0.9166667</td><td>13</td><td>TRUE</td></tr>\n",
       "\t<tr><th scope=row>12</th><td><span style=white-space:pre-wrap>C,W    </span></td><td>(a + L + R*f &lt;-&gt; C)*(A*C + R*F + R*l + r*f*C &lt;-&gt; W)</td><td>1</td><td>0.9166667</td><td>13</td><td>TRUE</td></tr>\n",
       "</tbody>\n",
       "</table>\n"
      ],
      "text/latex": [
       "A condTbl: 12 x 6\n",
       "\\begin{tabular}{r|llllll}\n",
       "  & outcome & condition & consistency & coverage & complexity & inus\\\\\n",
       "  & <otcmStrn> & <stdCmplx> & <dbl> & <dbl> & <int> & <lgl>\\\\\n",
       "\\hline\n",
       "\t1 & C,W     & (a + L + R*f <-> C)*(A*R + a*l + R*F <-> W)         & 1 & 0.9166667 & 10 & TRUE\\\\\n",
       "\t2 & C,W     & (a + L + R*f <-> C)*(A*R + R*F + l*C <-> W)         & 1 & 0.9166667 & 10 & TRUE\\\\\n",
       "\t3 & C,W     & (a + L + R*f <-> C)*(A*L + R*F + l*C <-> W)         & 1 & 0.9166667 & 10 & TRUE\\\\\n",
       "\t4 & C,W     & (a + L + R*f <-> C)*(a*l + A*C + R*F <-> W)         & 1 & 0.9166667 & 10 & TRUE\\\\\n",
       "\t5 & C,W     & (a + L + R*f <-> C)*(A*C + R*F + l*C <-> W)         & 1 & 0.9166667 & 10 & TRUE\\\\\n",
       "\t6 & C,W     & (a + L + R*f <-> C)*(A*L + a*l + R*F + R*l <-> W)   & 1 & 0.9166667 & 12 & TRUE\\\\\n",
       "\t7 & C,W     & (a + L + R*f <-> C)*(A*R + R*F + R*l + a*r*f <-> W) & 1 & 0.9166667 & 13 & TRUE\\\\\n",
       "\t8 & C,W     & (a + L + R*f <-> C)*(A*R + R*F + R*l + r*f*C <-> W) & 1 & 0.9166667 & 13 & TRUE\\\\\n",
       "\t9 & C,W     & (a + L + R*f <-> C)*(A*L + R*F + R*l + a*r*f <-> W) & 1 & 0.9166667 & 13 & TRUE\\\\\n",
       "\t10 & C,W     & (a + L + R*f <-> C)*(A*L + R*F + R*l + r*f*C <-> W) & 1 & 0.9166667 & 13 & TRUE\\\\\n",
       "\t11 & C,W     & (a + L + R*f <-> C)*(A*C + R*F + R*l + a*r*f <-> W) & 1 & 0.9166667 & 13 & TRUE\\\\\n",
       "\t12 & C,W     & (a + L + R*f <-> C)*(A*C + R*F + R*l + r*f*C <-> W) & 1 & 0.9166667 & 13 & TRUE\\\\\n",
       "\\end{tabular}\n"
      ],
      "text/markdown": [
       "\n",
       "A condTbl: 12 x 6\n",
       "\n",
       "| <!--/--> | outcome &lt;otcmStrn&gt; | condition &lt;stdCmplx&gt; | consistency &lt;dbl&gt; | coverage &lt;dbl&gt; | complexity &lt;int&gt; | inus &lt;lgl&gt; |\n",
       "|---|---|---|---|---|---|---|\n",
       "| 1 | C,W     | (a + L + R*f &lt;-&gt; C)*(A*R + a*l + R*F &lt;-&gt; W)         | 1 | 0.9166667 | 10 | TRUE |\n",
       "| 2 | C,W     | (a + L + R*f &lt;-&gt; C)*(A*R + R*F + l*C &lt;-&gt; W)         | 1 | 0.9166667 | 10 | TRUE |\n",
       "| 3 | C,W     | (a + L + R*f &lt;-&gt; C)*(A*L + R*F + l*C &lt;-&gt; W)         | 1 | 0.9166667 | 10 | TRUE |\n",
       "| 4 | C,W     | (a + L + R*f &lt;-&gt; C)*(a*l + A*C + R*F &lt;-&gt; W)         | 1 | 0.9166667 | 10 | TRUE |\n",
       "| 5 | C,W     | (a + L + R*f &lt;-&gt; C)*(A*C + R*F + l*C &lt;-&gt; W)         | 1 | 0.9166667 | 10 | TRUE |\n",
       "| 6 | C,W     | (a + L + R*f &lt;-&gt; C)*(A*L + a*l + R*F + R*l &lt;-&gt; W)   | 1 | 0.9166667 | 12 | TRUE |\n",
       "| 7 | C,W     | (a + L + R*f &lt;-&gt; C)*(A*R + R*F + R*l + a*r*f &lt;-&gt; W) | 1 | 0.9166667 | 13 | TRUE |\n",
       "| 8 | C,W     | (a + L + R*f &lt;-&gt; C)*(A*R + R*F + R*l + r*f*C &lt;-&gt; W) | 1 | 0.9166667 | 13 | TRUE |\n",
       "| 9 | C,W     | (a + L + R*f &lt;-&gt; C)*(A*L + R*F + R*l + a*r*f &lt;-&gt; W) | 1 | 0.9166667 | 13 | TRUE |\n",
       "| 10 | C,W     | (a + L + R*f &lt;-&gt; C)*(A*L + R*F + R*l + r*f*C &lt;-&gt; W) | 1 | 0.9166667 | 13 | TRUE |\n",
       "| 11 | C,W     | (a + L + R*f &lt;-&gt; C)*(A*C + R*F + R*l + a*r*f &lt;-&gt; W) | 1 | 0.9166667 | 13 | TRUE |\n",
       "| 12 | C,W     | (a + L + R*f &lt;-&gt; C)*(A*C + R*F + R*l + r*f*C &lt;-&gt; W) | 1 | 0.9166667 | 13 | TRUE |\n",
       "\n"
      ],
      "text/plain": [
       "   outcome condition                                           consistency\n",
       "1  C,W     (a + L + R*f <-> C)*(A*R + a*l + R*F <-> W)         1          \n",
       "2  C,W     (a + L + R*f <-> C)*(A*R + R*F + l*C <-> W)         1          \n",
       "3  C,W     (a + L + R*f <-> C)*(A*L + R*F + l*C <-> W)         1          \n",
       "4  C,W     (a + L + R*f <-> C)*(a*l + A*C + R*F <-> W)         1          \n",
       "5  C,W     (a + L + R*f <-> C)*(A*C + R*F + l*C <-> W)         1          \n",
       "6  C,W     (a + L + R*f <-> C)*(A*L + a*l + R*F + R*l <-> W)   1          \n",
       "7  C,W     (a + L + R*f <-> C)*(A*R + R*F + R*l + a*r*f <-> W) 1          \n",
       "8  C,W     (a + L + R*f <-> C)*(A*R + R*F + R*l + r*f*C <-> W) 1          \n",
       "9  C,W     (a + L + R*f <-> C)*(A*L + R*F + R*l + a*r*f <-> W) 1          \n",
       "10 C,W     (a + L + R*f <-> C)*(A*L + R*F + R*l + r*f*C <-> W) 1          \n",
       "11 C,W     (a + L + R*f <-> C)*(A*C + R*F + R*l + a*r*f <-> W) 1          \n",
       "12 C,W     (a + L + R*f <-> C)*(A*C + R*F + R*l + r*f*C <-> W) 1          \n",
       "   coverage  complexity inus\n",
       "1  0.9166667 10         TRUE\n",
       "2  0.9166667 10         TRUE\n",
       "3  0.9166667 10         TRUE\n",
       "4  0.9166667 10         TRUE\n",
       "5  0.9166667 10         TRUE\n",
       "6  0.9166667 12         TRUE\n",
       "7  0.9166667 13         TRUE\n",
       "8  0.9166667 13         TRUE\n",
       "9  0.9166667 13         TRUE\n",
       "10 0.9166667 13         TRUE\n",
       "11 0.9166667 13         TRUE\n",
       "12 0.9166667 13         TRUE"
      ]
     },
     "metadata": {},
     "output_type": "display_data"
    }
   ],
   "source": [
    "# We can use the function `csf()` to output only the complex solution formulas\n",
    "sol1 <- cna(d.irrigate, ordering=list(c(\"A\",\"R\",\"F\",\"L\",\"C\"),\"W\"), cov=0.9)\n",
    "csf(sol1)"
   ]
  },
  {
   "cell_type": "markdown",
   "id": "bb66bb46-af69-4db2-afd3-1487c447d05f",
   "metadata": {},
   "source": [
    "With this result, note that, in contrast with the author's assumptions, not only $W$ can be modeled as an endogenous factor; also $C$ is being modeled as such.\n",
    "The reason is that this dataset was analyzed with QCA with its focus on single-outcome structures, while CNA returns all possible formulas that fare equally well at the parameters of model fit.\n",
    "In this result, the behaviour of $C$ and $W$ is regulated by a common cause structure."
   ]
  },
  {
   "cell_type": "markdown",
   "id": "4ff53d2d-183a-4598-ad37-1f83a01459e4",
   "metadata": {},
   "source": [
    " "
   ]
  },
  {
   "cell_type": "markdown",
   "id": "ac36fc2c-231e-4fac-954d-2fa8300435e5",
   "metadata": {},
   "source": [
    "We may also generate models for negastive outcomes, with the `cna()` option `notcols=c()` which takes a character vector of factors to be negated as input (these factors must also appear negatively in the ordering).\n",
    "Let's try, for example, negating $C$ and $W$ (and lowering the threshold so we can obtain a result):"
   ]
  },
  {
   "cell_type": "code",
   "execution_count": 36,
   "id": "b9b14585-3e8e-4806-b2a7-635ebd40c095",
   "metadata": {},
   "outputs": [],
   "source": [
    "sol2 <- cna(d.irrigate, ordering=list(c(\"A\",\"R\",\"F\",\"L\",\"c\"),\"w\"),\n",
    "           notcols=c(\"C\",\"W\"),cov=0.66)"
   ]
  },
  {
   "cell_type": "code",
   "execution_count": 40,
   "id": "0d7baa04-9883-4e41-baf3-6252c20ee207",
   "metadata": {},
   "outputs": [
    {
     "name": "stdout",
     "output_type": "stream",
     "text": [
      "--- Coincidence Analysis (CNA) ---\n",
      "\n",
      "Causal ordering:\n",
      "A, R, F, L, C < W\n",
      "\n",
      "Atomic solution formulas:\n",
      "-------------------------\n",
      "Outcome R:\n",
      " solution              consistency coverage complexity inus\n",
      " A*F + f*L <-> R                 1    0.667          4 TRUE\n",
      " A*C + f*L <-> R                 1    0.667          4 TRUE\n",
      " A*L + f*L + F*l <-> R           1    0.667          6 TRUE\n",
      "\n",
      "Outcome w:\n",
      " solution        consistency coverage complexity inus\n",
      " A*r + r*F <-> w           1    0.667          4 TRUE\n",
      " A*r + r*L <-> w           1    0.667          4 TRUE\n",
      " r*F + r*c <-> w           1    0.667          4 TRUE\n",
      " ... (total no. of formulas: 6)\n",
      "\n",
      "Complex solution formulas:\n",
      "--------------------------\n",
      " outcome solution                            consistency coverage complexity\n",
      " R,w     (A*F + f*L <-> R)*(A*r + r*F <-> w)           1    0.667          8\n",
      " R,w     (A*F + f*L <-> R)*(A*r + r*L <-> w)           1    0.667          8\n",
      " R,w     (A*F + f*L <-> R)*(r*F + r*c <-> w)           1    0.667          8\n",
      " inus\n",
      " TRUE\n",
      " TRUE\n",
      " TRUE\n",
      " ... (total no. of formulas: 17)\n"
     ]
    }
   ],
   "source": [
    "# nsolutions just defines how many formulas to visually show\n",
    "print(sol2, nsolutions=3, what=\"a,c\")"
   ]
  },
  {
   "cell_type": "markdown",
   "id": "f1bb34d9-b6be-480d-a74b-10c340872c85",
   "metadata": {},
   "source": [
    " "
   ]
  },
  {
   "cell_type": "markdown",
   "id": "7145da52-28b7-41f0-ba4f-57fd3056145d",
   "metadata": {},
   "source": [
    "The `condition()` function provides assistance to inspect the properties of sufficient and necessary conditions in a data frame; notably, those that appear in solution formulas returned by `cna()`.\n",
    "To work with it, we input a vector of strings specifying Boolean functions as input, and will output (i) the configurations and cases that instantiate a given condition or solution, and (ii) the consistency and coverage:"
   ]
  },
  {
   "cell_type": "code",
   "execution_count": 43,
   "id": "1ac1db9b-fea8-4a5e-b5e8-0bed4dbe7929",
   "metadata": {},
   "outputs": [
    {
     "data": {
      "text/plain": [
       "A*r + F*r <-> w :\n",
       "type of condition: atomic \n",
       "    A*r+F*r w | n.obs\n",
       "1         0 0 |     1\n",
       "2         0 1 |     1\n",
       "3,4       0 0 |     2\n",
       "5,6       0 0 |     2\n",
       "7,8       0 0 |     2\n",
       "9         0 0 |     1\n",
       "10        0 0 |     1\n",
       "11        1 1 |     1\n",
       "12        1 1 |     1\n",
       "13        0 0 |     1\n",
       "14        0 0 |     1\n",
       "15        0 0 |     1\n",
       "Consistency: 1.000 (2/2)\n",
       "Coverage:    0.667 (2/3)\n",
       "Total no. of cases: 15\n"
      ]
     },
     "metadata": {},
     "output_type": "display_data"
    }
   ],
   "source": [
    "condition(\"A*r + F*r <-> w\", d.irrigate)"
   ]
  },
  {
   "cell_type": "markdown",
   "id": "5d3318a9-4ee2-4670-973c-1576b4fa755e",
   "metadata": {},
   "source": [
    "In this case, we see how the disjunction $A*r + F*r$ covers the instances 11 and 12, leaving the occurrence of $w$ in case 2 uncovered.\n",
    "Consequently, the overall solution coverage is 2/3.\n",
    "\n",
    "We may also perform a manual calculation of *unique coverage scores* (Ragin, 2008) using the `summary()` function.\n",
    "As we will negate one of the disjucts, we turn the disjunct into a conjunction, and in this example we find out that each of these two disjuncts uniquely covers one of the instances of $w$ (i.e., the negation of $W$):"
   ]
  },
  {
   "cell_type": "code",
   "execution_count": 54,
   "id": "17943f21-73a4-4de3-8f77-c5ee49289b21",
   "metadata": {},
   "outputs": [
    {
     "name": "stdout",
     "output_type": "stream",
     "text": [
      "A*r*-(F*r) <-> w :\n",
      "type of condition: atomic \n",
      "Consistency: 1.000 (1/1)\n",
      "Coverage:    0.333 (1/3)\n",
      "Total no. of cases: 15\n",
      "\n"
     ]
    }
   ],
   "source": [
    "summary(condition(\"A*r * -(F*r) <-> w\", d.irrigate))"
   ]
  },
  {
   "cell_type": "code",
   "execution_count": 55,
   "id": "ed901d76-7a81-4e26-af2b-b252876e88d4",
   "metadata": {},
   "outputs": [
    {
     "name": "stdout",
     "output_type": "stream",
     "text": [
      "F*r*-(A*r) <-> w :\n",
      "type of condition: atomic \n",
      "Consistency: 1.000 (1/1)\n",
      "Coverage:    0.333 (1/3)\n",
      "Total no. of cases: 15\n",
      "\n"
     ]
    }
   ],
   "source": [
    "summary(condition(\"F*r * -(A*r) <-> w\", d.irrigate))"
   ]
  },
  {
   "cell_type": "code",
   "execution_count": null,
   "id": "379a7979-4622-4deb-990c-5c428fd46857",
   "metadata": {},
   "outputs": [],
   "source": []
  }
 ],
 "metadata": {
  "kernelspec": {
   "display_name": "R4.0.4",
   "language": "R",
   "name": "ir40"
  },
  "language_info": {
   "codemirror_mode": "r",
   "file_extension": ".r",
   "mimetype": "text/x-r-source",
   "name": "R",
   "pygments_lexer": "r",
   "version": "4.0.4"
  }
 },
 "nbformat": 4,
 "nbformat_minor": 5
}
